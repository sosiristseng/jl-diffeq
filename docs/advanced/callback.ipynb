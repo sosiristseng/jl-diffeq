{
 "cells": [
  {
   "cell_type": "markdown",
   "source": [
    "# Callbacks and Events\n",
    "\n",
    "Docs:\n",
    "- https://docs.sciml.ai/DiffEqDocs/stable/features/callback_functions/\n",
    "- https://tutorials.sciml.ai/html/introduction/04-callbacks_and_events.html\n",
    "\n",
    "## Types\n",
    "\n",
    "- `ContinuousCallback`: applied when a given *continuous condition* function hits zero. SciML solvers are able to interpolate the integration step to meet the condition.\n",
    "- `DiscreteCallback`: applied when its condition function is true.\n",
    "- `CallbackSet(cb1, cb2, ...)`: Multiple callbacks can be chained together to form a `CallbackSet`.\n",
    "- `VectorContinuousCallback`: an array of `ContinuousCallback`s.\n",
    "\n",
    "## How to\n",
    "\n",
    "After you define a callback, send it to the `solve()` function:\n",
    "\n",
    "```julia\n",
    "sol = solve(prob, alg, callback=cb)\n",
    "```\n",
    "\n",
    "## DiscreteCallback : Interventions at Preset Times\n",
    "\n",
    "The drug concentration in the blood follows exponential decay."
   ],
   "metadata": {}
  },
  {
   "outputs": [],
   "cell_type": "code",
   "source": [
    "using OrdinaryDiffEq, DiffEqCallbacks\n",
    "using Plots"
   ],
   "metadata": {},
   "execution_count": null
  },
  {
   "cell_type": "markdown",
   "source": [
    "Exponential decay model"
   ],
   "metadata": {}
  },
  {
   "outputs": [],
   "cell_type": "code",
   "source": [
    "function dosing!(du, u, p, t)\n",
    "    du[1] = -u[1]\n",
    "end\n",
    "\n",
    "u0 = [10.0]\n",
    "tspan = (0.0, 10.0)\n",
    "prob = ODEProblem(dosing!, u0, tspan)\n",
    "sol = solve(prob, Tsit5())\n",
    "\n",
    "plot(sol, lw=3)"
   ],
   "metadata": {},
   "execution_count": null
  },
  {
   "cell_type": "markdown",
   "source": [
    "Add a dose of 10 at `t = 4`. You may need to force the solver to stop at `t==4` by using `tstops=[4.0]` to properly apply the callback."
   ],
   "metadata": {}
  },
  {
   "outputs": [],
   "cell_type": "code",
   "source": [
    "condition(u, t, integrator) = t == 4\n",
    "affect!(integrator) = integrator.u[1] += 10\n",
    "cb = DiscreteCallback(condition, affect!)\n",
    "\n",
    "sol = solve(prob, Tsit5(), callback=cb, tstops=[4.0])\n",
    "plot(sol)"
   ],
   "metadata": {},
   "execution_count": null
  },
  {
   "cell_type": "markdown",
   "source": [
    "Applying multiple doses."
   ],
   "metadata": {}
  },
  {
   "outputs": [],
   "cell_type": "code",
   "source": [
    "dosetimes = [4.0, 8.0]\n",
    "condition(u, t, integrator) = t ∈ dosetimes\n",
    "affect!(integrator) = integrator.u[1] += 10\n",
    "cb = DiscreteCallback(condition, affect!)\n",
    "\n",
    "sol = solve(prob, Tsit5(), callback=cb, tstops=dosetimes)\n",
    "plot(sol)"
   ],
   "metadata": {},
   "execution_count": null
  },
  {
   "cell_type": "markdown",
   "source": [
    "Conditional dosing. Note that a dose was not given at t=6 because the concentration is not less than 1."
   ],
   "metadata": {}
  },
  {
   "outputs": [],
   "cell_type": "code",
   "source": [
    "dosetimes = [4.0, 6.0, 8.0]\n",
    "condition(u, t, integrator) = t ∈ dosetimes && (u[1] < 1.0)\n",
    "affect!(integrator) = integrator.u[1] += 10integrator.t\n",
    "cb = DiscreteCallback(condition, affect!)\n",
    "\n",
    "sol = solve(prob, Tsit5(), callback=cb, tstops=dosetimes)\n",
    "plot(sol)"
   ],
   "metadata": {},
   "execution_count": null
  },
  {
   "cell_type": "markdown",
   "source": [
    "### PresetTimeCallback\n",
    "`PresetTimeCallback(tstops, affect!)` takes an array of times and an `affect!` function to apply. The solver will stop at `tstops` to ensure callbacks are applied."
   ],
   "metadata": {}
  },
  {
   "outputs": [],
   "cell_type": "code",
   "source": [
    "dosetimes = [4.0, 8.0]\n",
    "affect!(integrator) = integrator.u[1] += 10\n",
    "cb = PresetTimeCallback(dosetimes, affect!)\n",
    "sol = solve(prob, Tsit5(), callback=cb)\n",
    "plot(sol)"
   ],
   "metadata": {},
   "execution_count": null
  },
  {
   "cell_type": "markdown",
   "source": [
    "### Periodic callback\n",
    "`PeriodicCallback` is a special case of `DiscreteCallback`, used when a function should be called periodically in terms of integration time (as opposed to wall time)."
   ],
   "metadata": {}
  },
  {
   "outputs": [],
   "cell_type": "code",
   "source": [
    "prob = ODEProblem(dosing!, u0, (0.0, 25.0))\n",
    "\n",
    "affect!(integrator) = integrator.u[1] += 10\n",
    "cb = PeriodicCallback(affect!, 1.0)\n",
    "\n",
    "sol = solve(prob, Tsit5(), callback=cb)\n",
    "plot(sol)"
   ],
   "metadata": {},
   "execution_count": null
  },
  {
   "cell_type": "markdown",
   "source": [
    "## Continuous Callback\n",
    "### bouncing Ball example"
   ],
   "metadata": {}
  },
  {
   "outputs": [],
   "cell_type": "code",
   "source": [
    "using OrdinaryDiffEq, DiffEqCallbacks\n",
    "using Plots\n",
    "\n",
    "function ball!(du, u, p, t)\n",
    "    du[1] = u[2]\n",
    "    du[2] = -p\n",
    "end\n",
    "\n",
    "# When the ball touches the ground\n",
    "# Telling when event_f(u,t) == 0\n",
    "function condition(u, t, integrator)\n",
    "    u[1]\n",
    "end\n",
    "\n",
    "function affect!(integrator)\n",
    "    integrator.u[2] = -integrator.u[2]\n",
    "end\n",
    "\n",
    "cb = ContinuousCallback(condition, affect!)\n",
    "\n",
    "u0 = [50.0, 0.0]\n",
    "tspan = (0.0, 15.0)\n",
    "p = 9.8\n",
    "\n",
    "prob = ODEProblem(ball!, u0, tspan, p)\n",
    "sol = solve(prob, Tsit5(), callback=cb)\n",
    "plot(sol, label=[\"Position\" \"Velocity\"])"
   ],
   "metadata": {},
   "execution_count": null
  },
  {
   "cell_type": "markdown",
   "source": [
    "### Vector Continuous Callback\n",
    "You can group multiple callbacks together into a vector. In this example, we will simulate bouncing ball with multiple walls."
   ],
   "metadata": {}
  },
  {
   "outputs": [],
   "cell_type": "code",
   "source": [
    "using OrdinaryDiffEq, DiffEqCallbacks\n",
    "using Plots\n",
    "\n",
    "function ball_2d!(du, u, p, t)\n",
    "    du[1] = u[2]  ## x_pos\n",
    "    du[2] = -p    ## x_vel\n",
    "    du[3] = u[4]  ## y_pos\n",
    "    du[4] = 0.0   ## y_vel\n",
    "end"
   ],
   "metadata": {},
   "execution_count": null
  },
  {
   "cell_type": "markdown",
   "source": [
    "Vector conditions"
   ],
   "metadata": {}
  },
  {
   "outputs": [],
   "cell_type": "code",
   "source": [
    "function condition(out, u, t, integrator) ## Event when event_f(u,t) == 0\n",
    "    out[1] = u[1]\n",
    "    out[2] = (u[3] - 10.0)u[3]\n",
    "end"
   ],
   "metadata": {},
   "execution_count": null
  },
  {
   "cell_type": "markdown",
   "source": [
    "Vector affects"
   ],
   "metadata": {}
  },
  {
   "outputs": [],
   "cell_type": "code",
   "source": [
    "function affect!(integrator, idx)\n",
    "    if idx == 1\n",
    "        integrator.u[2] = -0.9integrator.u[2]\n",
    "    elseif idx == 2\n",
    "        integrator.u[4] = -0.9integrator.u[4]\n",
    "    end\n",
    "end\n",
    "\n",
    "cb = VectorContinuousCallback(condition, affect!, 2)\n",
    "u0 = [50.0, 0.0, 0.0, 2.0]\n",
    "tspan = (0.0, 15.0)\n",
    "p = 9.8\n",
    "prob = ODEProblem(ball_2d!, u0, tspan, p)\n",
    "sol = solve(prob, Tsit5(), callback=cb, dt=1e-3, adaptive=false)\n",
    "plot(sol, idxs=(3, 1))"
   ],
   "metadata": {},
   "execution_count": null
  },
  {
   "cell_type": "markdown",
   "source": [
    "## Other Callbacks\n",
    "\n",
    "https://docs.sciml.ai/DiffEqCallbacks/stable/\n",
    "\n",
    "- `ManifoldProjection(g)`: keep `g(u) = 0` for energy conservation.\n",
    "- `AutoAbstol()`: automatically adapt the absolute tolerance.\n",
    "- `PositiveDomain()`: enforce non-negative solution. **The system should also be defined outside the positive domain**. There is also a more general version `GeneralDomain()`.\n",
    "- `StepsizeLimiter((u,p,t) -> maxtimestep)`: restrict maximal allowed time step.\n",
    "- `FunctionCallingCallback((u, t, int) -> func_content; funcat=[t1, t2, ...])`: call a function at the time points (t1, t2, ...) of interest.\n",
    "- `SavingCallback((u, t, int) -> data_to_be_saved, dataprototype)`: call a function and saves the result.\n",
    "- `IterativeCallback(time_choice(int) -> t2, user_affect!)`: apply an effect at the time of the next callback."
   ],
   "metadata": {}
  },
  {
   "cell_type": "markdown",
   "source": [
    "---\n",
    "\n",
    "*This notebook was generated using [Literate.jl](https://github.com/fredrikekre/Literate.jl).*"
   ],
   "metadata": {}
  }
 ],
 "nbformat_minor": 3,
 "metadata": {
  "language_info": {
   "file_extension": ".jl",
   "mimetype": "application/julia",
   "name": "julia",
   "version": "1.11.6"
  },
  "kernelspec": {
   "name": "julia-1.11",
   "display_name": "Julia 1.11.6",
   "language": "julia"
  }
 },
 "nbformat": 4
}

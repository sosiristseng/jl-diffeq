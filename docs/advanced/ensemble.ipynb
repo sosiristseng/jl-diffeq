{
 "cells": [
  {
   "cell_type": "markdown",
   "source": [
    "# Parallel Ensemble Simulations\n",
    "\n",
    "Docs: https://diffeq.sciml.ai/stable/features/ensemble/\n",
    "\n",
    "## Solving an ODE With Different Initial Conditions\n",
    "\n",
    "Solving $\\dot{u} = 1.01u$ with $u(0)=0.5$ and $t \\in [0, 1]$ with multiple initial conditions."
   ],
   "metadata": {}
  },
  {
   "outputs": [],
   "cell_type": "code",
   "source": [
    "using OrdinaryDiffEq\n",
    "using Plots"
   ],
   "metadata": {},
   "execution_count": null
  },
  {
   "cell_type": "markdown",
   "source": [
    "Linear ODE which starts at 0.5 and solves from t=0.0 to t=1.0"
   ],
   "metadata": {}
  },
  {
   "outputs": [],
   "cell_type": "code",
   "source": [
    "prob = ODEProblem((u, p, t) -> 1.01u, 0.5, (0.0, 1.0))"
   ],
   "metadata": {},
   "execution_count": null
  },
  {
   "cell_type": "markdown",
   "source": [
    "Define a new problem for each trajectory using `remake()`\n",
    "The initial conditions (u0) are changed in this example"
   ],
   "metadata": {}
  },
  {
   "outputs": [],
   "cell_type": "code",
   "source": [
    "function prob_func(prob, i, repeat)\n",
    "    remake(prob, u0=rand() * prob.u0)\n",
    "end"
   ],
   "metadata": {},
   "execution_count": null
  },
  {
   "cell_type": "markdown",
   "source": [
    "The function could also capture the necessary data outside.\n",
    "\n",
    "```julia\n",
    "initial_conditions = range(0, stop=1, length=100)\n",
    "\n",
    "function prob_func(prob, i, repeat)\n",
    "  remake(prob, u0=initial_conditions[i])\n",
    "end\n",
    "```"
   ],
   "metadata": {}
  },
  {
   "cell_type": "markdown",
   "source": [
    "Define an ensemble problem"
   ],
   "metadata": {}
  },
  {
   "outputs": [],
   "cell_type": "code",
   "source": [
    "ensemble_prob = EnsembleProblem(prob; prob_func=prob_func)"
   ],
   "metadata": {},
   "execution_count": null
  },
  {
   "cell_type": "markdown",
   "source": [
    "Ensemble simulations are solved by multithreading by default"
   ],
   "metadata": {}
  },
  {
   "outputs": [],
   "cell_type": "code",
   "source": [
    "sim = solve(ensemble_prob, trajectories=100)"
   ],
   "metadata": {},
   "execution_count": null
  },
  {
   "cell_type": "markdown",
   "source": [
    "Each element in the results is an ODE solution"
   ],
   "metadata": {}
  },
  {
   "outputs": [],
   "cell_type": "code",
   "source": [
    "sim[1]"
   ],
   "metadata": {},
   "execution_count": null
  },
  {
   "cell_type": "markdown",
   "source": [
    "You can plot all the results at once"
   ],
   "metadata": {}
  },
  {
   "outputs": [],
   "cell_type": "code",
   "source": [
    "plot(sim, linealpha=0.4)"
   ],
   "metadata": {},
   "execution_count": null
  },
  {
   "cell_type": "markdown",
   "source": [
    "## Solving an SDE with Different Parameters"
   ],
   "metadata": {}
  },
  {
   "outputs": [],
   "cell_type": "code",
   "source": [
    "using StochasticDiffEq\n",
    "using Plots\n",
    "\n",
    "function lotka_volterra!(du, u, p, t)\n",
    "    du[1] = p[1] * u[1] - p[2] * u[1] * u[2]\n",
    "    du[2] = -3 * u[2] + u[1] * u[2]\n",
    "end\n",
    "\n",
    "function g!(du, u, p, t)\n",
    "    du[1] = p[3] * u[1]\n",
    "    du[2] = p[4] * u[2]\n",
    "end\n",
    "\n",
    "p = [1.5, 1.0, 0.1, 0.1]\n",
    "prob = SDEProblem(lotka_volterra!, g!, [1.0, 1.0], (0.0, 10.0), p)"
   ],
   "metadata": {},
   "execution_count": null
  },
  {
   "outputs": [],
   "cell_type": "code",
   "source": [
    "function prob_func(prob, i, repeat)\n",
    "    x = 0.3 * rand(2)\n",
    "    remake(prob, p=[p[1:2]; x])\n",
    "end\n",
    "\n",
    "ensemble_prob = EnsembleProblem(prob, prob_func=prob_func)\n",
    "sim = solve(ensemble_prob, SRIW1(), trajectories=10)\n",
    "\n",
    "plot(sim, linealpha=0.5, color=:blue, idxs=(0, 1))\n",
    "plot!(sim, linealpha=0.5, color=:red, idxs=(0, 2))"
   ],
   "metadata": {},
   "execution_count": null
  },
  {
   "cell_type": "markdown",
   "source": [
    "Show the distribution of the ensemble solutions"
   ],
   "metadata": {}
  },
  {
   "outputs": [],
   "cell_type": "code",
   "source": [
    "summ = EnsembleSummary(sim, 0:0.1:10)\n",
    "plot(summ, fillalpha=0.5)"
   ],
   "metadata": {},
   "execution_count": null
  },
  {
   "cell_type": "markdown",
   "source": [
    "## Ensemble simulations of Modelingtoolkit (MTK) models\n",
    "Radioactive decay example"
   ],
   "metadata": {}
  },
  {
   "outputs": [],
   "cell_type": "code",
   "source": [
    "using ModelingToolkit\n",
    "using OrdinaryDiffEq\n",
    "using Plots\n",
    "\n",
    "@independent_variables t\n",
    "@variables c(t) = 1.0\n",
    "@parameters λ = 1.0\n",
    "D = Differential(t)\n",
    "@mtkbuild sys = ODESystem([D(c) ~ -λ * c], t)\n",
    "prob = ODEProblem(sys, [], (0.0, 2.0), []);\n",
    "solve(prob)"
   ],
   "metadata": {},
   "execution_count": null
  },
  {
   "cell_type": "markdown",
   "source": [
    "Use the symbolic interface to change the parameter(s)."
   ],
   "metadata": {}
  },
  {
   "outputs": [],
   "cell_type": "code",
   "source": [
    "function changemtkparam(prob, i, repeat)\n",
    "    # Make a new copy of the parameter vector\n",
    "    # Ensure the changed will not affect the original ODE problem\n",
    "    remake(prob, p=[λ => i * 0.5])\n",
    "end\n",
    "\n",
    "eprob = EnsembleProblem(prob, prob_func=changemtkparam)\n",
    "sim = solve(eprob, trajectories=10)\n",
    "plot(sim, linealpha=0.5)"
   ],
   "metadata": {},
   "execution_count": null
  },
  {
   "cell_type": "markdown",
   "source": [
    "---\n",
    "\n",
    "*This notebook was generated using [Literate.jl](https://github.com/fredrikekre/Literate.jl).*"
   ],
   "metadata": {}
  }
 ],
 "nbformat_minor": 3,
 "metadata": {
  "language_info": {
   "file_extension": ".jl",
   "mimetype": "application/julia",
   "name": "julia",
   "version": "1.11.7"
  },
  "kernelspec": {
   "name": "julia-1.11",
   "display_name": "Julia 1.11.7",
   "language": "julia"
  }
 },
 "nbformat": 4
}
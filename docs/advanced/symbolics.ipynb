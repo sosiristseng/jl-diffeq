{
 "cells": [
  {
   "cell_type": "markdown",
   "source": [
    "# Symbolic calculations in Julia\n",
    "\n",
    "`Symbolics.jl` is a computer Algebra System (CAS) for Julia. The symbols are number-like and follow Julia semantics so we can put them into a regular function to get a symbolic counterpart. Symbolics.jl is the backbone of ModelingToolkit.jl. [Comparision to SymPy](https://docs.sciml.ai/Symbolics/stable/comparison/)\n",
    "\n",
    "Source:\n",
    "\n",
    "- [Simulating Big Models in Julia with ModelingToolkit @ JuliaCon 2021 Workshop](https://youtu.be/HEVOgSLBzWA).\n",
    "- [Symbolics.jl](https://github.com/JuliaSymbolics/Symbolics.jl) Github repo and its [docs](https://docs.sciml.ai/Symbolics/stable/).\n",
    "\n",
    "## Caveats about Symbolics.jl\n",
    "\n",
    "1. `Symbolics.jl` can only handle *traceble*, *quasi-static* expressions. However, some expressions are not quasi-static e.g. factorial. The number of operations depends on the input value.\n",
    "\n",
    "> Use `@register_symbolic` to stop Symbolics.jl from digging further.\n",
    "\n",
    "2. Some code paths is *untraceable*, such as conditional statements: `if`...`else`...`end`.\n",
    "\n",
    "> You can use `ifelse(cond, ex1, ex2)` or `(cond) * (ex1) + (1 - cond) * (ex2)` to make it traceable.\n",
    "\n",
    "## Basic operations\n",
    "\n",
    "- `latexify`\n",
    "- `derivative`\n",
    "- `gradient`\n",
    "- `jacobian`\n",
    "- `substitute`\n",
    "- `simplify`"
   ],
   "metadata": {}
  },
  {
   "outputs": [],
   "cell_type": "code",
   "source": [
    "using Symbolics\n",
    "using Latexify\n",
    "\n",
    "@variables x y\n",
    "x^2 + y^2"
   ],
   "metadata": {},
   "execution_count": null
  },
  {
   "cell_type": "markdown",
   "source": [
    "You can use `Latexify.latexify()` to see the LaTeX code."
   ],
   "metadata": {}
  },
  {
   "outputs": [],
   "cell_type": "code",
   "source": [
    "A = [\n",
    "    x^2+y 0 2x\n",
    "    0 0 2y\n",
    "    y^2+x 0 0\n",
    "]\n",
    "\n",
    "latexify(A)"
   ],
   "metadata": {},
   "execution_count": null
  },
  {
   "cell_type": "markdown",
   "source": [
    "Derivative: `Symbolics.derivative(expr, variable)`"
   ],
   "metadata": {}
  },
  {
   "outputs": [],
   "cell_type": "code",
   "source": [
    "Symbolics.derivative(x^2 + y^2, x)"
   ],
   "metadata": {},
   "execution_count": null
  },
  {
   "cell_type": "markdown",
   "source": [
    "Gradient: `Symbolics.gradient(expr, [variables])`"
   ],
   "metadata": {}
  },
  {
   "outputs": [],
   "cell_type": "code",
   "source": [
    "Symbolics.gradient(x^2 + y^2, [x, y])"
   ],
   "metadata": {},
   "execution_count": null
  },
  {
   "cell_type": "markdown",
   "source": [
    "Jacobian: `Symbolics.jacobian([exprs], [variables])`"
   ],
   "metadata": {}
  },
  {
   "outputs": [],
   "cell_type": "code",
   "source": [
    "Symbolics.jacobian([x^2 + y^2; y^2], [x, y])"
   ],
   "metadata": {},
   "execution_count": null
  },
  {
   "cell_type": "markdown",
   "source": [
    "Substitute: `Symbolics.substitute(expr, mapping)`"
   ],
   "metadata": {}
  },
  {
   "outputs": [],
   "cell_type": "code",
   "source": [
    "Symbolics.substitute(sin(x)^2 + 2 + cos(x)^2, Dict(x => y^2))"
   ],
   "metadata": {},
   "execution_count": null
  },
  {
   "outputs": [],
   "cell_type": "code",
   "source": [
    "Symbolics.substitute(sin(x)^2 + 2 + cos(x)^2, Dict(x => 1.0))"
   ],
   "metadata": {},
   "execution_count": null
  },
  {
   "cell_type": "markdown",
   "source": [
    "Simplify: `Symbolics.simplify(expr)`"
   ],
   "metadata": {}
  },
  {
   "outputs": [],
   "cell_type": "code",
   "source": [
    "Symbolics.simplify(sin(x)^2 + 2 + cos(x)^2)"
   ],
   "metadata": {},
   "execution_count": null
  },
  {
   "cell_type": "markdown",
   "source": [
    "This expression gets automatically simplified because it's always true"
   ],
   "metadata": {}
  },
  {
   "outputs": [],
   "cell_type": "code",
   "source": [
    "2x - x"
   ],
   "metadata": {},
   "execution_count": null
  },
  {
   "outputs": [],
   "cell_type": "code",
   "source": [
    "ex = x^2 + y^2 + sin(x)\n",
    "isequal(2ex, ex + ex)"
   ],
   "metadata": {},
   "execution_count": null
  },
  {
   "cell_type": "markdown",
   "source": [
    "You need to simplify the expressions."
   ],
   "metadata": {}
  },
  {
   "outputs": [],
   "cell_type": "code",
   "source": [
    "isequal(simplify(2ex), simplify(ex + ex))"
   ],
   "metadata": {},
   "execution_count": null
  },
  {
   "outputs": [],
   "cell_type": "code",
   "source": [
    "ex / ex"
   ],
   "metadata": {},
   "execution_count": null
  },
  {
   "cell_type": "markdown",
   "source": [
    "Symbolic integration: use [SymbolicNumericIntegration.jl](https://github.com/SciML/SymbolicNumericIntegration.jl). The [Youtube video](https://youtu.be/L47k2zjPU9s) by `doggo dot jl` gives a concise example."
   ],
   "metadata": {}
  },
  {
   "cell_type": "markdown",
   "source": [
    "## Custom functions\n",
    "\n",
    "https://docs.sciml.ai/Symbolics/stable/manual/functions/\n",
    "\n",
    "With `@register_symbolic` and `@register_array_symbolic`, functions will be evaluated as-is and **will not** be traced and expanded by `Symbolics.jl`. Useful for `rand()`, data interpolations, etc."
   ],
   "metadata": {}
  },
  {
   "cell_type": "markdown",
   "source": [
    "## More number types\n",
    "Complex number"
   ],
   "metadata": {}
  },
  {
   "outputs": [],
   "cell_type": "code",
   "source": [
    "@variables z::Complex"
   ],
   "metadata": {},
   "execution_count": null
  },
  {
   "cell_type": "markdown",
   "source": [
    "Array types with subscript"
   ],
   "metadata": {}
  },
  {
   "outputs": [],
   "cell_type": "code",
   "source": [
    "@variables xs[1:20]"
   ],
   "metadata": {},
   "execution_count": null
  },
  {
   "outputs": [],
   "cell_type": "code",
   "source": [
    "xs[1]"
   ],
   "metadata": {},
   "execution_count": null
  },
  {
   "cell_type": "markdown",
   "source": [
    "Explicit vector form"
   ],
   "metadata": {}
  },
  {
   "outputs": [],
   "cell_type": "code",
   "source": [
    "collect(xs)"
   ],
   "metadata": {},
   "execution_count": null
  },
  {
   "cell_type": "markdown",
   "source": [
    "Operations on arrays are supported"
   ],
   "metadata": {}
  },
  {
   "outputs": [],
   "cell_type": "code",
   "source": [
    "sum(collect(xs))"
   ],
   "metadata": {},
   "execution_count": null
  },
  {
   "cell_type": "markdown",
   "source": [
    "## Example: Rosenbrock function\n",
    "\n",
    "Wikipedia: https://en.wikipedia.org/wiki/Rosenbrock_function\n",
    "\n",
    "We use the vector form of Rosenbrock function."
   ],
   "metadata": {}
  },
  {
   "outputs": [],
   "cell_type": "code",
   "source": [
    "rosenbrock(xs) = sum(1:length(xs)-1) do i\n",
    "    100 * (xs[i+1] - xs[i]^2)^2 + (1 - xs[i])^2\n",
    "end"
   ],
   "metadata": {},
   "execution_count": null
  },
  {
   "cell_type": "markdown",
   "source": [
    "The function is at minimum when xs are all one's"
   ],
   "metadata": {}
  },
  {
   "outputs": [],
   "cell_type": "code",
   "source": [
    "rosenbrock(ones(100))"
   ],
   "metadata": {},
   "execution_count": null
  },
  {
   "cell_type": "markdown",
   "source": [
    "Making a 20-element array"
   ],
   "metadata": {}
  },
  {
   "outputs": [],
   "cell_type": "code",
   "source": [
    "N = 20\n",
    "@variables xs[1:N]"
   ],
   "metadata": {},
   "execution_count": null
  },
  {
   "cell_type": "markdown",
   "source": [
    "A full list of vector components"
   ],
   "metadata": {}
  },
  {
   "outputs": [],
   "cell_type": "code",
   "source": [
    "xs = collect(xs)"
   ],
   "metadata": {},
   "execution_count": null
  },
  {
   "outputs": [],
   "cell_type": "code",
   "source": [
    "rxs = rosenbrock(xs)"
   ],
   "metadata": {},
   "execution_count": null
  },
  {
   "cell_type": "markdown",
   "source": [
    "Gradient"
   ],
   "metadata": {}
  },
  {
   "outputs": [],
   "cell_type": "code",
   "source": [
    "grad = Symbolics.gradient(rxs, xs)"
   ],
   "metadata": {},
   "execution_count": null
  },
  {
   "cell_type": "markdown",
   "source": [
    "Hessian = Jacobian of gradient"
   ],
   "metadata": {}
  },
  {
   "outputs": [],
   "cell_type": "code",
   "source": [
    "hes1 = Symbolics.jacobian(grad, xs)"
   ],
   "metadata": {},
   "execution_count": null
  },
  {
   "cell_type": "markdown",
   "source": [
    "call `hessian()` directly"
   ],
   "metadata": {}
  },
  {
   "outputs": [],
   "cell_type": "code",
   "source": [
    "hes2 = Symbolics.hessian(rxs, xs)"
   ],
   "metadata": {},
   "execution_count": null
  },
  {
   "outputs": [],
   "cell_type": "code",
   "source": [
    "isequal(hes1, hes2)"
   ],
   "metadata": {},
   "execution_count": null
  },
  {
   "cell_type": "markdown",
   "source": [
    "### Sparse matrix\n",
    "Sparse Hessian matrix of the Hessian matrix of the Rosenbrock function w.r.t. to vector components."
   ],
   "metadata": {}
  },
  {
   "outputs": [],
   "cell_type": "code",
   "source": [
    "hes_sp = Symbolics.hessian_sparsity(rosenbrock, xs)"
   ],
   "metadata": {},
   "execution_count": null
  },
  {
   "cell_type": "markdown",
   "source": [
    "Visualize the sparse matrix with `Plots.spy()`"
   ],
   "metadata": {}
  },
  {
   "outputs": [],
   "cell_type": "code",
   "source": [
    "using Plots\n",
    "spy(hes_sp)"
   ],
   "metadata": {},
   "execution_count": null
  },
  {
   "cell_type": "markdown",
   "source": [
    "## Generate functions symbolically\n",
    "\n",
    "https://docs.sciml.ai/Symbolics/stable/manual/build_function/\n",
    "\n",
    "- `build_function(ex, args...)` generates out-of-place (oop) and in-place (ip) function expressions in a tuple pair.\n",
    "- `build_function(ex, args..., parallel=Symbolics.MultithreadedForm())` generates a parallel, multithreaded algorithm.\n",
    "- `build_function(ex, args..., target=Symbolics.CTarget())` generates a C function from Julia.\n",
    "\n",
    "For example, we want to build a Julia function from `grad`."
   ],
   "metadata": {}
  },
  {
   "outputs": [],
   "cell_type": "code",
   "source": [
    "fexprs = build_function(grad, xs);"
   ],
   "metadata": {},
   "execution_count": null
  },
  {
   "cell_type": "markdown",
   "source": [
    "Get the Out-of-place `f(input)` version"
   ],
   "metadata": {}
  },
  {
   "outputs": [],
   "cell_type": "code",
   "source": [
    "foop = eval(fexprs[1])"
   ],
   "metadata": {},
   "execution_count": null
  },
  {
   "cell_type": "markdown",
   "source": [
    "Get the In-place `f!(out, in)` version"
   ],
   "metadata": {}
  },
  {
   "outputs": [],
   "cell_type": "code",
   "source": [
    "fip = eval(fexprs[2])"
   ],
   "metadata": {},
   "execution_count": null
  },
  {
   "outputs": [],
   "cell_type": "code",
   "source": [
    "inxs = rand(N)\n",
    "out = similar(inxs)\n",
    "fip(out, inxs)  ## The inplace version returns nothing. The results are stored in out parameter."
   ],
   "metadata": {},
   "execution_count": null
  },
  {
   "outputs": [],
   "cell_type": "code",
   "source": [
    "foop(inxs)\n",
    "isapprox(foop(inxs), out)"
   ],
   "metadata": {},
   "execution_count": null
  },
  {
   "cell_type": "markdown",
   "source": [
    "To save the generated function for later use:\n",
    "\n",
    "```julia\n",
    "write(\"function.jl\", string(fexprs[2]))\n",
    "```\n",
    "\n",
    "Load it back\n",
    "\n",
    "```julia\n",
    "g = include(\"function.jl\")\n",
    "```"
   ],
   "metadata": {}
  },
  {
   "cell_type": "markdown",
   "source": [
    "Here, `ForwardDiff.jl` checks if our gradient generated from `Symbolics.jl` is correct."
   ],
   "metadata": {}
  },
  {
   "outputs": [],
   "cell_type": "code",
   "source": [
    "using ForwardDiff: gradient\n",
    "gradient(rosenbrock, inxs) ≈ out"
   ],
   "metadata": {},
   "execution_count": null
  },
  {
   "cell_type": "markdown",
   "source": [
    "Sparse Hessian matrix, only non-zero expressions are calculated."
   ],
   "metadata": {}
  },
  {
   "outputs": [],
   "cell_type": "code",
   "source": [
    "hexprs = build_function(hes_sp, xs)\n",
    "hoop = eval(hexprs[1])\n",
    "hip = eval(hexprs[2])\n",
    "hoop(rand(N))"
   ],
   "metadata": {},
   "execution_count": null
  },
  {
   "cell_type": "markdown",
   "source": [
    "## Solve equations symbolically\n",
    "\n",
    "https://docs.sciml.ai/Symbolics/stable/manual/solver/\n",
    "\n",
    "Use `symbolic_solve(expr, x)` to get analytic solutions.\n",
    "\n",
    "For single variable solving, the `Nemo.jl` package is needed; for multiple variable solving, the `Groebner.jl` package is needed.\n",
    "\n",
    "This example solves the steady-state rate of a enzyme-catalyzed reaction of fumarate hydratase: https://bmcbioinformatics.biomedcentral.com/articles/10.1186/1471-2105-10-238. At steady-state, the rate of change of each state shoul be zero."
   ],
   "metadata": {}
  },
  {
   "outputs": [],
   "cell_type": "code",
   "source": [
    "using Symbolics\n",
    "using Groebner\n",
    "\n",
    "@variables k1 k2 k3 k4 k5 k6 km1 km2 km3 km4 km5 km6 E1 E2 E3 E4 E5\n",
    "\n",
    "eqs = let\n",
    "    v12 = km6 * E1 - k6 * E2\n",
    "    v13 = k1 * E1 - km1 * E3\n",
    "    v15 = k3 * E1 - km3 * E5\n",
    "    v24 = km5 * E2 - k5 * E4\n",
    "    v34 = k2 * E3 - km2 * E4\n",
    "    v45 = km4 * E4 - k4 * E5\n",
    "\n",
    "    dE1 = -v12 - v13 - v15\n",
    "    dE2 = v12 - v24\n",
    "    dE3 = v13 - v34\n",
    "    dE4 = v24 + v34 - v45\n",
    "    dE5 = v15 + v45\n",
    "\n",
    "    # Make sure the rates are conserved\n",
    "    @assert isequal(dE1 + dE2 + dE3 + dE4 + dE5, 0)\n",
    "    # The following terms should be all zeroes.\n",
    "    [dE1, dE2, dE3, dE4, E1 + E2 + E3 + E4 + E5 - 1 ]\n",
    "end\n",
    "\n",
    "@time sol = Symbolics.symbolic_solve(eqs, [E1, E2, E3, E4, E5])[1]"
   ],
   "metadata": {},
   "execution_count": null
  },
  {
   "cell_type": "markdown",
   "source": [
    "The weight of the first enzyme state is"
   ],
   "metadata": {}
  },
  {
   "outputs": [],
   "cell_type": "code",
   "source": [
    "numerator(sol[E1])"
   ],
   "metadata": {},
   "execution_count": null
  },
  {
   "cell_type": "markdown",
   "source": [
    "---\n",
    "\n",
    "*This notebook was generated using [Literate.jl](https://github.com/fredrikekre/Literate.jl).*"
   ],
   "metadata": {}
  }
 ],
 "nbformat_minor": 3,
 "metadata": {
  "language_info": {
   "file_extension": ".jl",
   "mimetype": "application/julia",
   "name": "julia",
   "version": "1.11.7"
  },
  "kernelspec": {
   "name": "julia-1.11",
   "display_name": "Julia 1.11.7",
   "language": "julia"
  }
 },
 "nbformat": 4
}
{
 "cells": [
  {
   "cell_type": "markdown",
   "source": [
    "# Julia Differential Equations\n",
    "\n",
    "Big frameworks:\n",
    "\n",
    "- https://github.com/SciML/DifferentialEquations.jl : high-performance solvers for differential equations.\n",
    "- https://github.com/SciML/ModelingToolkit.jl : a modeling framework for high-performance symbolic-numeric computation in scientific computing and scientific machine learning\n",
    "- https://github.com/SciML/Catalyst.jl : a symbolic modeling package for analysis and high performance simulation of chemical reaction networks."
   ],
   "metadata": {}
  },
  {
   "cell_type": "markdown",
   "source": [
    "## Runtime environment"
   ],
   "metadata": {}
  },
  {
   "outputs": [],
   "cell_type": "code",
   "source": [
    "import InteractiveUtils\n",
    "InteractiveUtils.versioninfo()"
   ],
   "metadata": {},
   "execution_count": null
  },
  {
   "outputs": [],
   "cell_type": "code",
   "source": [
    "import Pkg\n",
    "Pkg.status()"
   ],
   "metadata": {},
   "execution_count": null
  },
  {
   "cell_type": "markdown",
   "source": [
    "---\n",
    "\n",
    "*This notebook was generated using [Literate.jl](https://github.com/fredrikekre/Literate.jl).*"
   ],
   "metadata": {}
  }
 ],
 "nbformat_minor": 3,
 "metadata": {
  "language_info": {
   "file_extension": ".jl",
   "mimetype": "application/julia",
   "name": "julia",
   "version": "1.11.6"
  },
  "kernelspec": {
   "name": "julia-1.11",
   "display_name": "Julia 1.11.6",
   "language": "julia"
  }
 },
 "nbformat": 4
}

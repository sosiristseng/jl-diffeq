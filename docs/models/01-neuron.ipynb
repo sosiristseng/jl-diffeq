{
 "cells": [
  {
   "cell_type": "markdown",
   "source": [
    "# Spiking Neural Systems\n",
    "\n",
    "From: https://tutorials.sciml.ai/html/models/08-spiking_neural_systems.html\n",
    "\n",
    "Neuron models of leaky integrate-and-fire (LIF), Izhikevich, and Hodgkin-Huxley."
   ],
   "metadata": {}
  },
  {
   "cell_type": "markdown",
   "source": [
    "## The Leaky Integrate-and-Fire (LIF) Model\n",
    "\n",
    "$C\\dot{u} = -g_L (u - E_L) + I$\n",
    "\n",
    "- $u$: membrane potential (voltage)\n",
    "- $g_L$ : leak conductance\n",
    "- $I$: input current\n",
    "- $E_L$: equilibrium potential\n",
    "- $C$: membrane capacitance"
   ],
   "metadata": {}
  },
  {
   "outputs": [],
   "cell_type": "code",
   "source": [
    "using OrdinaryDiffEq, DiffEqCallbacks\n",
    "using Plots"
   ],
   "metadata": {},
   "execution_count": null
  },
  {
   "outputs": [],
   "cell_type": "code",
   "source": [
    "function lif(u, p, t)\n",
    "    gL, EL, C, Vth, I = p\n",
    "    return (-gL * (u - EL) + I) / C\n",
    "end"
   ],
   "metadata": {},
   "execution_count": null
  },
  {
   "cell_type": "markdown",
   "source": [
    "And when the membrane potential reaches a threshold, an action potential (spike) will occur and the membrane potential resets. The events can be described by a `DiscreteCallback`."
   ],
   "metadata": {}
  },
  {
   "outputs": [],
   "cell_type": "code",
   "source": [
    "function thr_cond(u, t, integrator)\n",
    "    integrator.u > integrator.p[4]\n",
    "end\n",
    "\n",
    "function reset_affect!(integrator)\n",
    "    integrator.u = integrator.p[2]\n",
    "end\n",
    "\n",
    "threshold = DiscreteCallback(thr_cond, reset_affect!)\n",
    "current_step = PresetTimeCallback([10.0, 25.0], integrator -> integrator.p[5] += 210.0)\n",
    "cb = CallbackSet(current_step, threshold)\n",
    "\n",
    "u0 = -75\n",
    "tspan = (0.0, 40.0)\n",
    "p = [10.0, -75.0, 5.0, -55.0, 0] ## p = (gL, EL, C, Vth, I)\n",
    "prob = ODEProblem(lif, u0, tspan, p, callback=cb)\n",
    "sol = solve(prob)\n",
    "plot(sol, label=\"voltage\")"
   ],
   "metadata": {},
   "execution_count": null
  },
  {
   "cell_type": "markdown",
   "source": [
    "The model rests at `-75` mV if there is no input. At `t=10` the input increases by `210` mV and the neuron starts to spike. Spiking does not start immediately because the input first has to charge the membrane capacitance. Increasing the input again at `t=15` increases the spike firing rate. Note that the firing is extremely regular because LIF model is just a simple RC circuit."
   ],
   "metadata": {}
  },
  {
   "cell_type": "markdown",
   "source": [
    "## The Izhikevich Model\n",
    "\n",
    "[The Izhikevich model](https://www.izhikevich.org/publications/spikes.htm) is a neuronal spiking model with two state variable. It can generate more complex patterns than the LIF model.\n",
    "\n",
    "$$\n",
    "\\begin{aligned}\n",
    "\\dot{v} &= 0.04v^2 + 5 v + 140 - u + I \\\\\n",
    "\\dot{u} &= a (bv - u)\n",
    "\\end{aligned}\n",
    "$$\n",
    "\n",
    "When $v \\geq$ 30 mV, $v$ resets to $c$, $u$ increased by $d$."
   ],
   "metadata": {}
  },
  {
   "outputs": [],
   "cell_type": "code",
   "source": [
    "using OrdinaryDiffEq, DiffEqCallbacks\n",
    "using Plots"
   ],
   "metadata": {},
   "execution_count": null
  },
  {
   "cell_type": "markdown",
   "source": [
    "In-place form of the Izhikevich Model"
   ],
   "metadata": {}
  },
  {
   "outputs": [],
   "cell_type": "code",
   "source": [
    "function izh!(du, u, p, t)\n",
    "    a, b, c, d, I = p\n",
    "    du[1] = 0.04 * u[1]^2 + 5 * u[1] + 140 - u[2] + I\n",
    "    du[2] = a * (b * u[1] - u[2])\n",
    "end"
   ],
   "metadata": {},
   "execution_count": null
  },
  {
   "cell_type": "markdown",
   "source": [
    "Events"
   ],
   "metadata": {}
  },
  {
   "outputs": [],
   "cell_type": "code",
   "source": [
    "function thr_cond(u, t, integrator)\n",
    "    integrator.u[1] >= 30\n",
    "end\n",
    "\n",
    "function reset_affect!(integrator)\n",
    "    integrator.u[1] = integrator.p[3]\n",
    "    integrator.u[2] += integrator.p[4]\n",
    "end\n",
    "\n",
    "threshold = DiscreteCallback(thr_cond, reset_affect!)\n",
    "current_step = PresetTimeCallback(50, integrator -> integrator.p[5] += 10)\n",
    "cb = CallbackSet(current_step, threshold)"
   ],
   "metadata": {},
   "execution_count": null
  },
  {
   "cell_type": "markdown",
   "source": [
    "Setup problem"
   ],
   "metadata": {}
  },
  {
   "outputs": [],
   "cell_type": "code",
   "source": [
    "p = [0.02, 0.2, -50, 2, 0]\n",
    "u0 = [-65, p[2] * -65]\n",
    "tspan = (0.0, 300)\n",
    "prob = ODEProblem(izh!, u0, tspan, p, callback=cb)"
   ],
   "metadata": {},
   "execution_count": null
  },
  {
   "cell_type": "markdown",
   "source": [
    "solution"
   ],
   "metadata": {}
  },
  {
   "outputs": [],
   "cell_type": "code",
   "source": [
    "sol = solve(prob)\n",
    "p1 = plot(sol, idxs=1, label=\"v\");\n",
    "p2 = plot(sol, idxs=2, label=\"u\");\n",
    "plot(p1, p2)"
   ],
   "metadata": {},
   "execution_count": null
  },
  {
   "cell_type": "markdown",
   "source": [
    "Changing parameters alters spiking patterns."
   ],
   "metadata": {}
  },
  {
   "outputs": [],
   "cell_type": "code",
   "source": [
    "p = [0.02, 0.2, -65, 8, 0]\n",
    "u0 = [-65, p[2] * -65]\n",
    "tspan = (0.0, 300)\n",
    "prob = ODEProblem(izh!, u0, tspan, p, callback=cb)\n",
    "sol = solve(prob)\n",
    "\n",
    "plot(sol, idxs=1, label=\"v\")"
   ],
   "metadata": {},
   "execution_count": null
  },
  {
   "cell_type": "markdown",
   "source": [
    "## Hodgkin-Huxley Model\n",
    "\n",
    "The [Hodgkin-Huxley (HH) model](https://en.wikipedia.org/wiki/Hodgkin%E2%80%93Huxley_model) is a biophysically realistic neuron model. All parameters and mechanisms of the model represent biological mechanisms. Opening and closing of sodium and potassium channels depolarize and hyperpolarize the membrane potential."
   ],
   "metadata": {}
  },
  {
   "outputs": [],
   "cell_type": "code",
   "source": [
    "using OrdinaryDiffEq, DiffEqCallbacks\n",
    "using Plots"
   ],
   "metadata": {},
   "execution_count": null
  },
  {
   "cell_type": "markdown",
   "source": [
    "Potassium ion-channel rate functions"
   ],
   "metadata": {}
  },
  {
   "outputs": [],
   "cell_type": "code",
   "source": [
    "alpha_n(v) = (0.02 * (v - 25.0)) / (1.0 - exp((-1.0 * (v - 25.0)) / 9.0))\n",
    "beta_n(v) = (-0.002 * (v - 25.0)) / (1.0 - exp((v - 25.0) / 9.0))"
   ],
   "metadata": {},
   "execution_count": null
  },
  {
   "cell_type": "markdown",
   "source": [
    "Sodium ion-channel rate functions"
   ],
   "metadata": {}
  },
  {
   "outputs": [],
   "cell_type": "code",
   "source": [
    "alpha_m(v) = (0.182 * (v + 35.0)) / (1.0 - exp((-1.0 * (v + 35.0)) / 9.0))\n",
    "beta_m(v) = (-0.124 * (v + 35.0)) / (1.0 - exp((v + 35.0) / 9.0))\n",
    "alpha_h(v) = 0.25 * exp((-1.0 * (v + 90.0)) / 12.0)\n",
    "beta_h(v) = (0.25 * exp((v + 62.0) / 6.0)) / exp((v + 90.0) / 12.0)\n",
    "\n",
    "function HH!(du, u, p, t)\n",
    "    gK, gNa, gL, EK, ENa, EL, C, I = p\n",
    "    v, n, m, h = u\n",
    "    du[1] = (-(gK * (n^4.0) * (v - EK)) - (gNa * (m^3.0) * h * (v - ENa)) - (gL * (v - EL)) + I) / C\n",
    "    du[2] = (alpha_n(v) * (1.0 - n)) - (beta_n(v) * n)\n",
    "    du[3] = (alpha_m(v) * (1.0 - m)) - (beta_m(v) * m)\n",
    "    du[4] = (alpha_h(v) * (1.0 - h)) - (beta_h(v) * h)\n",
    "end\n",
    "\n",
    "current_step = PresetTimeCallback(100, integrator -> integrator.p[8] += 1)"
   ],
   "metadata": {},
   "execution_count": null
  },
  {
   "cell_type": "markdown",
   "source": [
    "steady-states of n, m, and h"
   ],
   "metadata": {}
  },
  {
   "outputs": [],
   "cell_type": "code",
   "source": [
    "n_inf(v) = alpha_n(v) / (alpha_n(v) + beta_n(v))\n",
    "m_inf(v) = alpha_m(v) / (alpha_m(v) + beta_m(v))\n",
    "h_inf(v) = alpha_h(v) / (alpha_h(v) + beta_h(v))"
   ],
   "metadata": {},
   "execution_count": null
  },
  {
   "cell_type": "markdown",
   "source": [
    "Parameters: gK, gNa, gL, EK, ENa, EL, C, I"
   ],
   "metadata": {}
  },
  {
   "outputs": [],
   "cell_type": "code",
   "source": [
    "p = [35.0, 40.0, 0.3, -77.0, 55.0, -65.0, 1, 0]\n",
    "u0 = [-60, n_inf(-60), m_inf(-60), h_inf(-60)]\n",
    "tspan = (0.0, 1000.0)\n",
    "prob = ODEProblem(HH!, u0, tspan, p, callback=current_step)\n",
    "sol = solve(prob)\n",
    "plot(sol, idxs=1, label=\"v\")"
   ],
   "metadata": {},
   "execution_count": null
  },
  {
   "cell_type": "markdown",
   "source": [
    "## Alpha Synapse\n",
    "\n",
    "One of the most simple synaptic mechanisms used in computational neuroscience is the alpha synapse. When this mechanism is triggered, it causes an instantaneous rise in conductance followed by an exponential decay."
   ],
   "metadata": {}
  },
  {
   "outputs": [],
   "cell_type": "code",
   "source": [
    "using OrdinaryDiffEq, DiffEqCallbacks\n",
    "using Plots\n",
    "\n",
    "function HH_syn!(du, u, p, t)\n",
    "    gK, gNa, gL, EK, ENa, EL, C, I, max_gSyn, ESyn, tau, tf = p\n",
    "    v, n, m, h = u\n",
    "\n",
    "    gSyn(max_gsyn, tau, tf, t) = ifelse(t - tf >= 0, max_gsyn * exp(-(t - tf) / tau), 0.0)\n",
    "    ISyn = gSyn(max_gSyn, tau, tf, t) * (v - ESyn)\n",
    "\n",
    "    du[1] = (-(gK * (n^4.0) * (v - EK)) - (gNa * (m^3.0) * h * (v - ENa)) - (gL * (v - EL)) + I - ISyn) / C\n",
    "    du[2] = (alpha_n(v) * (1.0 - n)) - (beta_n(v) * n)\n",
    "    du[3] = (alpha_m(v) * (1.0 - m)) - (beta_m(v) * m)\n",
    "    du[4] = (alpha_h(v) * (1.0 - h)) - (beta_h(v) * h)\n",
    "end"
   ],
   "metadata": {},
   "execution_count": null
  },
  {
   "cell_type": "markdown",
   "source": [
    "parameters are gK, gNa, gL, EK, ENa, EL, C, I, max_gSyn, ESyn, tau, tf"
   ],
   "metadata": {}
  },
  {
   "outputs": [],
   "cell_type": "code",
   "source": [
    "p = [35.0, 40.0, 0.3, -77.0, 55.0, -65.0, 1, 0, 0.008, 0, 20, 100]\n",
    "tspan = (0.0, 200.0)\n",
    "prob = ODEProblem(HH_syn!, u0, tspan, p)\n",
    "sol = solve(prob)\n",
    "fig = plot(sol, idxs=1, label=\"subthreshold\")"
   ],
   "metadata": {},
   "execution_count": null
  },
  {
   "cell_type": "markdown",
   "source": [
    "Subthreshold excitatory postsynaptic potential (EPSP) (blue) vs suprathreshold EPSP (orange)."
   ],
   "metadata": {}
  },
  {
   "outputs": [],
   "cell_type": "code",
   "source": [
    "sol2 = solve(remake(prob, p=[35.0, 40.0, 0.3, -77.0, 55.0, -65.0, 1, 0, 0.01, 0, 20, 100]))\n",
    "plot!(fig, sol2, idxs=1, label=\"suprathreshold\")"
   ],
   "metadata": {},
   "execution_count": null
  },
  {
   "cell_type": "markdown",
   "source": [
    "## Tsodyks-Markram Synapse\n",
    "\n",
    "The Tsodyks-Markram synapse (TMS) is a dynamic system that models the changes of maximum conductance that occur between EPSPs at different firing frequencies."
   ],
   "metadata": {}
  },
  {
   "outputs": [],
   "cell_type": "code",
   "source": [
    "using OrdinaryDiffEq, DiffEqCallbacks\n",
    "using Plots\n",
    "\n",
    "function HH_tms!(du, u, p, t)\n",
    "    gK, gNa, gL, EK, ENa, EL, C, I, tau, tau_u, tau_R, u0, gmax, Esyn = p\n",
    "    v, n, m, h, u, R, gsyn = u\n",
    "\n",
    "    du[1] = ((gK * (n^4.0) * (EK - v)) + (gNa * (m^3.0) * h * (ENa - v)) + (gL * (EL - v)) + I + gsyn * (Esyn - v)) / C\n",
    "    du[2] = (alpha_n(v) * (1.0 - n)) - (beta_n(v) * n)\n",
    "    du[3] = (alpha_m(v) * (1.0 - m)) - (beta_m(v) * m)\n",
    "    du[4] = (alpha_h(v) * (1.0 - h)) - (beta_h(v) * h)\n",
    "\n",
    "    # Synaptic variables\n",
    "    du[5] = -(u / tau_u)\n",
    "    du[6] = (1 - R) / tau_R\n",
    "    du[7] = -(gsyn / tau)\n",
    "end\n",
    "\n",
    "function epsp!(integrator)\n",
    "    integrator.u[5] += integrator.p[12] * (1 - integrator.u[5])\n",
    "    integrator.u[7] += integrator.p[13] * integrator.u[5] * integrator.u[6]\n",
    "    integrator.u[6] -= integrator.u[5] * integrator.u[6]\n",
    "end\n",
    "\n",
    "epsp_ts = PresetTimeCallback(100:100:500, epsp!)"
   ],
   "metadata": {},
   "execution_count": null
  },
  {
   "cell_type": "markdown",
   "source": [
    "parameters are gK, gNa, gL, EK, ENa, EL, C, I, tau, tau_u, tau_R, u0, gmax, Esyn"
   ],
   "metadata": {}
  },
  {
   "outputs": [],
   "cell_type": "code",
   "source": [
    "p = [35.0, 40.0, 0.3, -77.0, 55.0, -65.0, 1, 0, 30, 1000, 50, 0.5, 0.005, 0]\n",
    "u0 = [-60, n_inf(-60), m_inf(-60), h_inf(-60), 0.0, 1.0, 0.0]\n",
    "tspan = (0.0, 700.0)\n",
    "prob = ODEProblem(HH_tms!, u0, tspan, p, callback=epsp_ts)\n",
    "\n",
    "sol = solve(prob)\n",
    "fig = plot(sol, idxs=1, label=\"v (100s)\");\n",
    "fig"
   ],
   "metadata": {},
   "execution_count": null
  },
  {
   "outputs": [],
   "cell_type": "code",
   "source": [
    "prob2 = ODEProblem(HH_tms!, u0, tspan, p, callback=PresetTimeCallback(100:50:500, epsp!))\n",
    "sol2 = solve(prob2)\n",
    "plot!(fig, sol2, idxs=1, label=\"v (50s)\")\n",
    "fig"
   ],
   "metadata": {},
   "execution_count": null
  },
  {
   "cell_type": "markdown",
   "source": [
    "If we increase the period between these events, facilitation does not occur."
   ],
   "metadata": {}
  },
  {
   "outputs": [],
   "cell_type": "code",
   "source": [
    "p = [35.0, 40.0, 0.3, -77.0, 55.0, -65.0, 1, 0, 30, 500, 50, 0.5, 0.005, 0]\n",
    "u0 = [-60, n_inf(-60), m_inf(-60), h_inf(-60), 0.0, 1.0, 0.0]\n",
    "tspan = (0.0, 5300.0)\n",
    "prob = ODEProblem(HH_tms!, u0, tspan, p, callback=PresetTimeCallback(100:1000:5100, epsp!))\n",
    "sol = solve(prob)\n",
    "plot(sol, idxs=7, label=\"g_syn\")"
   ],
   "metadata": {},
   "execution_count": null
  },
  {
   "cell_type": "markdown",
   "source": [
    "We can also change these time constants such that the dynamics show short-term depression instead of facilitation."
   ],
   "metadata": {}
  },
  {
   "outputs": [],
   "cell_type": "code",
   "source": [
    "epsp_ts = PresetTimeCallback(100:100:500, epsp!)\n",
    "p = [35.0, 40.0, 0.3, -77.0, 55.0, -65.0, 1, 0, 30, 100, 1000, 0.5, 0.005, 0]\n",
    "u0 = [-60, n_inf(-60), m_inf(-60), h_inf(-60), 0.0, 1.0, 0.0]\n",
    "tspan = (0.0, 700.0)\n",
    "prob = ODEProblem(HH_tms!, u0, tspan, p, callback=epsp_ts)\n",
    "sol = solve(prob)\n",
    "plot(sol, idxs=7, label=\"g_syn\")"
   ],
   "metadata": {},
   "execution_count": null
  },
  {
   "cell_type": "markdown",
   "source": [
    "---\n",
    "\n",
    "*This notebook was generated using [Literate.jl](https://github.com/fredrikekre/Literate.jl).*"
   ],
   "metadata": {}
  }
 ],
 "nbformat_minor": 3,
 "metadata": {
  "language_info": {
   "file_extension": ".jl",
   "mimetype": "application/julia",
   "name": "julia",
   "version": "1.11.5"
  },
  "kernelspec": {
   "name": "julia-1.11",
   "display_name": "Julia 1.11.5",
   "language": "julia"
  }
 },
 "nbformat": 4
}

{
 "cells": [
  {
   "cell_type": "markdown",
   "source": [
    "# Catalyst ODE examples\n",
    "\n",
    "[Catalyst.jl](https://docs.sciml.ai/Catalyst/stable/) is a symbolic modeling package for analysis and high-performance simulation of chemical reaction networks.\n",
    "\n",
    "## Repressilator\n",
    "\n",
    "[Repressilator](https://en.wikipedia.org/wiki/Repressilator) model consists of a biochemical reaction network with three components in a negative feedback loop."
   ],
   "metadata": {}
  },
  {
   "outputs": [],
   "cell_type": "code",
   "source": [
    "using Catalyst\n",
    "using ModelingToolkit\n",
    "using OrdinaryDiffEq\n",
    "using Plots"
   ],
   "metadata": {},
   "execution_count": null
  },
  {
   "cell_type": "markdown",
   "source": [
    "Define the reaction network"
   ],
   "metadata": {}
  },
  {
   "outputs": [],
   "cell_type": "code",
   "source": [
    "repressilator = @reaction_network begin\n",
    "    hillr(P₃, α, K, n), ∅ --> m₁\n",
    "    hillr(P₁, α, K, n), ∅ --> m₂\n",
    "    hillr(P₂, α, K, n), ∅ --> m₃\n",
    "    (δ, γ), m₁ ↔ ∅\n",
    "    (δ, γ), m₂ ↔ ∅\n",
    "    (δ, γ), m₃ ↔ ∅\n",
    "    β, m₁ --> m₁ + P₁\n",
    "    β, m₂ --> m₂ + P₂\n",
    "    β, m₃ --> m₃ + P₃\n",
    "    μ, P₁ --> ∅\n",
    "    μ, P₂ --> ∅\n",
    "    μ, P₃ --> ∅\n",
    "end"
   ],
   "metadata": {},
   "execution_count": null
  },
  {
   "cell_type": "markdown",
   "source": [
    "Reactions in the reaction network"
   ],
   "metadata": {}
  },
  {
   "outputs": [],
   "cell_type": "code",
   "source": [
    "reactions(repressilator)"
   ],
   "metadata": {},
   "execution_count": null
  },
  {
   "cell_type": "markdown",
   "source": [
    "State variables in the reaction network"
   ],
   "metadata": {}
  },
  {
   "outputs": [],
   "cell_type": "code",
   "source": [
    "unknowns(repressilator)"
   ],
   "metadata": {},
   "execution_count": null
  },
  {
   "cell_type": "markdown",
   "source": [
    "Parameters in the reaction network"
   ],
   "metadata": {}
  },
  {
   "outputs": [],
   "cell_type": "code",
   "source": [
    "parameters(repressilator)"
   ],
   "metadata": {},
   "execution_count": null
  },
  {
   "cell_type": "markdown",
   "source": [
    "To setup parameters (`p`) and initial conditions (`u0`), you can use Julia symbols to map the values."
   ],
   "metadata": {}
  },
  {
   "outputs": [],
   "cell_type": "code",
   "source": [
    "p = [:α => 0.5, :K => 40, :n => 2, :δ => log(2) / 120, :γ => 5e-3, :β => 20 * log(2) / 120, :μ => log(2) / 60]\n",
    "u0 = [:m₁ => 0.0, :m₂ => 0.0, :m₃ => 0.0, :P₁ => 20.0, :P₂ => 0.0, :P₃ => 0.0]"
   ],
   "metadata": {},
   "execution_count": null
  },
  {
   "cell_type": "markdown",
   "source": [
    "Or you can also use symbols from the reaction system with the `@unpack` macro (less error prone)"
   ],
   "metadata": {}
  },
  {
   "outputs": [],
   "cell_type": "code",
   "source": [
    "@unpack m₁, m₂, m₃, P₁, P₂, P₃, α, K, n, δ, γ, β, μ = repressilator\n",
    "p = [α => 0.5, K => 40, n => 2, δ => log(2) / 120, γ => 5e-3, β => 20 * log(2) / 120, μ => log(2) / 60]\n",
    "u0 = [m₁ => 0.0, m₂ => 0.0, m₃ => 0.0, P₁ => 20.0, P₂ => 0.0, P₃ => 0.0]"
   ],
   "metadata": {},
   "execution_count": null
  },
  {
   "cell_type": "markdown",
   "source": [
    "Then we can solve this reaction network as an ODE problem"
   ],
   "metadata": {}
  },
  {
   "outputs": [],
   "cell_type": "code",
   "source": [
    "tspan = (0.0, 10000.0)\n",
    "oprob = ODEProblem(repressilator, u0, tspan, p);\n",
    "sol = solve(oprob)\n",
    "plot(sol)"
   ],
   "metadata": {},
   "execution_count": null
  },
  {
   "cell_type": "markdown",
   "source": [
    "Use extracted symbols for a phase plot"
   ],
   "metadata": {}
  },
  {
   "outputs": [],
   "cell_type": "code",
   "source": [
    "plot(sol, idxs=(P₁, P₂))"
   ],
   "metadata": {},
   "execution_count": null
  },
  {
   "cell_type": "markdown",
   "source": [
    "## Generating reaction systems programmatically\n",
    "\n",
    "There are two ways to create a reaction for a `ReactionSystem`:\n",
    "\n",
    "- `Reaction()` function.\n",
    "- `@reaction` macro.\n",
    "\n",
    "The `Reaction(rate, substrates, products)` function builds reactions.\n",
    "\n",
    "To allow for other stoichiometric coefficients we also provide a five argument form: `Reaction(rate, substrates, products, substrate_stoichiometries, product_stoichiometries)`"
   ],
   "metadata": {}
  },
  {
   "outputs": [],
   "cell_type": "code",
   "source": [
    "using Catalyst\n",
    "using ModelingToolkit\n",
    "\n",
    "@parameters α K n δ γ β μ\n",
    "@independent_variables t\n",
    "@species m₁(t) m₂(t) m₃(t) P₁(t) P₂(t) P₃(t)\n",
    "\n",
    "rxs = [\n",
    "    Reaction(hillr(P₃, α, K, n), nothing, [m₁]),\n",
    "    Reaction(hillr(P₁, α, K, n), nothing, [m₂]),\n",
    "    Reaction(hillr(P₂, α, K, n), nothing, [m₃]),\n",
    "    Reaction(δ, [m₁], nothing),\n",
    "    Reaction(γ, nothing, [m₁]),\n",
    "    Reaction(δ, [m₂], nothing),\n",
    "    Reaction(γ, nothing, [m₂]),\n",
    "    Reaction(δ, [m₃], nothing),\n",
    "    Reaction(γ, nothing, [m₃]),\n",
    "    Reaction(β, [m₁], [m₁, P₁]),\n",
    "    Reaction(β, [m₂], [m₂, P₂]),\n",
    "    Reaction(β, [m₃], [m₃, P₃]),\n",
    "    Reaction(μ, [P₁], nothing),\n",
    "    Reaction(μ, [P₂], nothing),\n",
    "    Reaction(μ, [P₃], nothing)\n",
    "]"
   ],
   "metadata": {},
   "execution_count": null
  },
  {
   "cell_type": "markdown",
   "source": [
    "Use `ReactionSystem(reactions, independent_variable)` to collect these reactions. `@named` macro is used because every system in `ModelingToolkit.jl` needs a name.\n",
    "`@named x = System(...)` is a short hand for `x = System(...; name=:x)`"
   ],
   "metadata": {}
  },
  {
   "outputs": [],
   "cell_type": "code",
   "source": [
    "@named repressilator = ReactionSystem(rxs, t)"
   ],
   "metadata": {},
   "execution_count": null
  },
  {
   "cell_type": "markdown",
   "source": [
    "The `@reaction` macro provides the same syntax in the `@reaction_network` to build reactions.\n",
    "Note that `@reaction` macro only allows one-way reaction; **reversible arrows are not allowed**."
   ],
   "metadata": {}
  },
  {
   "outputs": [],
   "cell_type": "code",
   "source": [
    "@independent_variables t\n",
    "@species P₁(t) P₂(t) P₃(t)\n",
    "\n",
    "rxs = [\n",
    "    (@reaction hillr($P₃, α, K, n), ∅ --> m₁),\n",
    "    (@reaction hillr($P₁, α, K, n), ∅ --> m₂),\n",
    "    (@reaction hillr($P₂, α, K, n), ∅ --> m₃),\n",
    "    (@reaction δ, m₁ --> ∅),\n",
    "    (@reaction γ, ∅ --> m₁),\n",
    "    (@reaction δ, m₂ --> ∅),\n",
    "    (@reaction γ, ∅ --> m₂),\n",
    "    (@reaction δ, m₃ --> ∅),\n",
    "    (@reaction γ, ∅ --> m₃),\n",
    "    (@reaction β, m₁ --> m₁ + P₁),\n",
    "    (@reaction β, m₂ --> m₂ + P₂),\n",
    "    (@reaction β, m₃ --> m₃ + P₃),\n",
    "    (@reaction μ, P₁ --> ∅),\n",
    "    (@reaction μ, P₂ --> ∅),\n",
    "    (@reaction μ, P₃ --> ∅)\n",
    "]\n",
    "\n",
    "@named repressilator2 = ReactionSystem(rxs, t)"
   ],
   "metadata": {},
   "execution_count": null
  },
  {
   "cell_type": "markdown",
   "source": [
    "## Conservation laws\n",
    "We can use conservation laws to eliminate some unknown variables.\n",
    "For example, in the chemical reaction `A + B <--> C`, given the initial concentrations of A, B, and C, the solver needs to find only one of [A], [B], and [C] instead of all three."
   ],
   "metadata": {}
  },
  {
   "outputs": [],
   "cell_type": "code",
   "source": [
    "using Catalyst\n",
    "using ModelingToolkit\n",
    "using OrdinaryDiffEq\n",
    "using Plots"
   ],
   "metadata": {},
   "execution_count": null
  },
  {
   "outputs": [],
   "cell_type": "code",
   "source": [
    "rn = @reaction_network begin\n",
    "    (k₊, k₋), A + B <--> C\n",
    "end"
   ],
   "metadata": {},
   "execution_count": null
  },
  {
   "cell_type": "markdown",
   "source": [
    "Set initial condition and parameter values"
   ],
   "metadata": {}
  },
  {
   "outputs": [],
   "cell_type": "code",
   "source": [
    "setdefaults!(rn, [:A => 1.0, :B => 2.0, :C => 0.0, :k₊ => 1.0, :k₋ => 1.0])"
   ],
   "metadata": {},
   "execution_count": null
  },
  {
   "cell_type": "markdown",
   "source": [
    "Let's convert it to a system of ODEs, using the conservation laws to eliminate two species, leaving only one of them as the state variable.\n",
    "The conserved quantities will be denoted as `Γ`s"
   ],
   "metadata": {}
  },
  {
   "outputs": [],
   "cell_type": "code",
   "source": [
    "osys = convert(ODESystem, rn; remove_conserved=true) |> structural_simplify"
   ],
   "metadata": {},
   "execution_count": null
  },
  {
   "cell_type": "markdown",
   "source": [
    "Only one (unknown) state variable need to be solved"
   ],
   "metadata": {}
  },
  {
   "outputs": [],
   "cell_type": "code",
   "source": [
    "unknowns(osys)"
   ],
   "metadata": {},
   "execution_count": null
  },
  {
   "cell_type": "markdown",
   "source": [
    "The other two are constrained by conserved quantities"
   ],
   "metadata": {}
  },
  {
   "outputs": [],
   "cell_type": "code",
   "source": [
    "observed(osys)"
   ],
   "metadata": {},
   "execution_count": null
  },
  {
   "cell_type": "markdown",
   "source": [
    "Solve the problem"
   ],
   "metadata": {}
  },
  {
   "outputs": [],
   "cell_type": "code",
   "source": [
    "oprob = ODEProblem(osys, [], (0.0, 10.0));\n",
    "sol = solve(oprob)"
   ],
   "metadata": {},
   "execution_count": null
  },
  {
   "cell_type": "markdown",
   "source": [
    "You can still trace the eliminated variable"
   ],
   "metadata": {}
  },
  {
   "outputs": [],
   "cell_type": "code",
   "source": [
    "plot(sol, idxs=osys.C)"
   ],
   "metadata": {},
   "execution_count": null
  },
  {
   "cell_type": "markdown",
   "source": [
    "---\n",
    "\n",
    "*This notebook was generated using [Literate.jl](https://github.com/fredrikekre/Literate.jl).*"
   ],
   "metadata": {}
  }
 ],
 "nbformat_minor": 3,
 "metadata": {
  "language_info": {
   "file_extension": ".jl",
   "mimetype": "application/julia",
   "name": "julia",
   "version": "1.11.7"
  },
  "kernelspec": {
   "name": "julia-1.11",
   "display_name": "Julia 1.11.7",
   "language": "julia"
  }
 },
 "nbformat": 4
}
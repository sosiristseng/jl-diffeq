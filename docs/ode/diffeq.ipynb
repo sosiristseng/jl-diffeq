{
 "cells": [
  {
   "cell_type": "markdown",
   "source": [
    "# Ordinary Differential Equations (ODEs)\n",
    "\n",
    "- [DifferentialEquations.jl docs](https://diffeq.sciml.ai/dev/index.html)\n",
    "\n",
    "Define a model function representing the right-hand-side (RHS) of the system.\n",
    "  - Out-of-place form: `f(u, p, t)` where `u` is the state variable(s), `p` is the parameter(s), and `t` is the independent variable (usually time). The output is the right hand side (RHS) of the differential equation system.\n",
    "  - In-place form: `f!(du, u, p, t)`, where the output is saved to `du`. The rest is the same as the out-of-place form. The in-place function may be faster since it does not allocate a new array in each call.\n",
    "- Initial conditions (`u0`) for the state variable(s).\n",
    "- (Optional) parameter(s) `p`.\n",
    "- Define a problem (e.g. `ODEProblem`) using the model function (`f`), initial condition(s) (`u0`), simulation time span (`tspan == (tstart, tend)`), and parameter(s) `p`.\n",
    "- Solve the problem by calling `solve(prob)`."
   ],
   "metadata": {}
  },
  {
   "cell_type": "markdown",
   "source": [
    "## Radioactive decay example\n",
    "\n",
    "The decaying rate of a nuclear isotope is proportional to its concentration (number):\n",
    "\n",
    "$$\n",
    "\\frac{d}{dt}C(t) = - \\lambda C(t)\n",
    "$$\n",
    "\n",
    "**State variable(s)**\n",
    "\n",
    "- $C(t)$: The concentration (number) of a decaying nuclear isotope.\n",
    "\n",
    "**Parameter(s)**\n",
    "\n",
    "- $\\lambda$: The rate constant of nuclear decay. The half-life: $t_{\\frac{1}{2}} = \\frac{ln2}{\\lambda}$."
   ],
   "metadata": {}
  },
  {
   "outputs": [],
   "cell_type": "code",
   "source": [
    "using OrdinaryDiffEq\n",
    "using Plots"
   ],
   "metadata": {},
   "execution_count": null
  },
  {
   "cell_type": "markdown",
   "source": [
    "The exponential decay ODE model, out-of-place (3-parameter) form"
   ],
   "metadata": {}
  },
  {
   "outputs": [],
   "cell_type": "code",
   "source": [
    "expdecay(u, p, t) = p * u"
   ],
   "metadata": {},
   "execution_count": null
  },
  {
   "cell_type": "markdown",
   "source": [
    "Setup ODE problem"
   ],
   "metadata": {}
  },
  {
   "outputs": [],
   "cell_type": "code",
   "source": [
    "p = -1.0 ## Parameter\n",
    "u0 = 1.0 ## Initial condition\n",
    "tspan = (0.0, 2.0) ## Simulation start and end time points\n",
    "prob = ODEProblem(expdecay, u0, tspan, p) ## Define the problem\n",
    "sol = solve(prob) ## Solve the problem"
   ],
   "metadata": {},
   "execution_count": null
  },
  {
   "cell_type": "markdown",
   "source": [
    "Visualize the solution with `Plots.jl`."
   ],
   "metadata": {}
  },
  {
   "outputs": [],
   "cell_type": "code",
   "source": [
    "plot(sol)"
   ],
   "metadata": {},
   "execution_count": null
  },
  {
   "cell_type": "markdown",
   "source": [
    "## Solution handling\n",
    "https://docs.sciml.ai/DiffEqDocs/stable/basics/solution/\n",
    "The mostly used feature is `sol(t)`, the state variables at time `t`. `t` could be a scalar or a vector-like sequence. The result state variables are calculated with interpolation."
   ],
   "metadata": {}
  },
  {
   "outputs": [],
   "cell_type": "code",
   "source": [
    "sol(1.0)"
   ],
   "metadata": {},
   "execution_count": null
  },
  {
   "outputs": [],
   "cell_type": "code",
   "source": [
    "sol(0.0:0.1:2.0)"
   ],
   "metadata": {},
   "execution_count": null
  },
  {
   "cell_type": "markdown",
   "source": [
    "`sol.t`: time points by the solver."
   ],
   "metadata": {}
  },
  {
   "outputs": [],
   "cell_type": "code",
   "source": [
    "sol.t"
   ],
   "metadata": {},
   "execution_count": null
  },
  {
   "cell_type": "markdown",
   "source": [
    "`sol.u`: state variables at `sol.t`."
   ],
   "metadata": {}
  },
  {
   "outputs": [],
   "cell_type": "code",
   "source": [
    "sol.u"
   ],
   "metadata": {},
   "execution_count": null
  },
  {
   "cell_type": "markdown",
   "source": [
    "## The SIR model\n",
    "\n",
    "A more complicated example is the SIR model describing infectious disease spreading. There are 3 state variables and 2 parameters.\n",
    "\n",
    "$$\n",
    "\\begin{align}\n",
    "\\frac{d}{dt}S(t) &= - \\beta S(t)I(t)  \\\\\n",
    "\\frac{d}{dt}I(t) &= \\beta S(t)I(t)  - \\gamma I(t)  \\\\\n",
    "\\frac{d}{dt}R(t) &= \\gamma I(t)\n",
    "\\end{align}\n",
    "$$\n",
    "\n",
    "**State variable(s)**\n",
    "\n",
    "- $S(t)$ : the fraction of susceptible people\n",
    "- $I(t)$ : the fraction of infectious people\n",
    "- $R(t)$ : the fraction of recovered (or removed) people\n",
    "\n",
    "**Parameter(s)**\n",
    "\n",
    "- $\\beta$ : the rate of infection when susceptible and infectious people meet\n",
    "- $\\gamma$ : the rate of recovery of infectious people"
   ],
   "metadata": {}
  },
  {
   "outputs": [],
   "cell_type": "code",
   "source": [
    "using OrdinaryDiffEq\n",
    "using Plots"
   ],
   "metadata": {},
   "execution_count": null
  },
  {
   "cell_type": "markdown",
   "source": [
    "Here we use the in-place form: `f!(du, u, p ,t)` for the SIR model. The output is written to the first argument `du`, without allocating a new array in each function call."
   ],
   "metadata": {}
  },
  {
   "outputs": [],
   "cell_type": "code",
   "source": [
    "function sir!(du, u, p, t)\n",
    "    s, i, r = u\n",
    "    β, γ = p\n",
    "    v1 = β * s * i\n",
    "    v2 = γ * i\n",
    "    du[1] = -v1\n",
    "    du[2] = v1 - v2\n",
    "    du[3] = v2\n",
    "    return nothing\n",
    "end"
   ],
   "metadata": {},
   "execution_count": null
  },
  {
   "cell_type": "markdown",
   "source": [
    "Setup parameters, initial conditions, time span, and the ODE problem."
   ],
   "metadata": {}
  },
  {
   "outputs": [],
   "cell_type": "code",
   "source": [
    "p = (β=1.0, γ=0.3)\n",
    "u0 = [0.99, 0.01, 0.00]\n",
    "tspan = (0.0, 20.0)\n",
    "prob = ODEProblem(sir!, u0, tspan, p)"
   ],
   "metadata": {},
   "execution_count": null
  },
  {
   "cell_type": "markdown",
   "source": [
    "Solve the problem"
   ],
   "metadata": {}
  },
  {
   "outputs": [],
   "cell_type": "code",
   "source": [
    "sol = solve(prob)"
   ],
   "metadata": {},
   "execution_count": null
  },
  {
   "cell_type": "markdown",
   "source": [
    "Visualize the solution"
   ],
   "metadata": {}
  },
  {
   "outputs": [],
   "cell_type": "code",
   "source": [
    "plot(sol, labels=[\"S\" \"I\" \"R\"], legend=:right)"
   ],
   "metadata": {},
   "execution_count": null
  },
  {
   "cell_type": "markdown",
   "source": [
    "`sol[i]`: all components at time step `i`"
   ],
   "metadata": {}
  },
  {
   "outputs": [],
   "cell_type": "code",
   "source": [
    "sol[2]"
   ],
   "metadata": {},
   "execution_count": null
  },
  {
   "cell_type": "markdown",
   "source": [
    "`sol[i, j]`: `i`th component at time step `j`"
   ],
   "metadata": {}
  },
  {
   "outputs": [],
   "cell_type": "code",
   "source": [
    "sol[1, 2]"
   ],
   "metadata": {},
   "execution_count": null
  },
  {
   "cell_type": "markdown",
   "source": [
    "`sol[i, :]`: the time series for the `i`th component."
   ],
   "metadata": {}
  },
  {
   "outputs": [],
   "cell_type": "code",
   "source": [
    "sol[1, :]"
   ],
   "metadata": {},
   "execution_count": null
  },
  {
   "cell_type": "markdown",
   "source": [
    "`sol(t, idxs=1)`: the 1st element in time point(s) `t` with interpolation. `t` can be a scalar or a vector."
   ],
   "metadata": {}
  },
  {
   "outputs": [],
   "cell_type": "code",
   "source": [
    "sol(10, idxs=2)"
   ],
   "metadata": {},
   "execution_count": null
  },
  {
   "outputs": [],
   "cell_type": "code",
   "source": [
    "sol(0.0:0.1:20.0, idxs=2)"
   ],
   "metadata": {},
   "execution_count": null
  },
  {
   "cell_type": "markdown",
   "source": [
    "## Non-autonomous ODEs\n",
    "\n",
    "In non-autonomous ODEs, term(s) in the right-hand-side (RHS) maybe time-dependent. For example, in this pendulum model has an external, time-dependent, force.\n",
    "\n",
    "$$\n",
    "\\begin{aligned}\n",
    "\\dot{\\theta} &= \\omega(t) \\\\\n",
    "\\dot{\\omega} &= -1.5\\frac{g}{l}sin(\\theta(t)) + \\frac{3}{ml^2}M(t)\n",
    "\\end{aligned}\n",
    "$$\n",
    "\n",
    "- $\\theta$: pendulum angle\n",
    "- $\\omega$: angular rate\n",
    "- M: time-dependent external torque\n",
    "- $l$: pendulum length\n",
    "- $g$: gradational acceleration"
   ],
   "metadata": {}
  },
  {
   "outputs": [],
   "cell_type": "code",
   "source": [
    "using OrdinaryDiffEq\n",
    "using Plots\n",
    "\n",
    "function pendulum!(du, u, p, t)\n",
    "    l = 1.0                             ## length [m]\n",
    "    m = 1.0                             ## mass [kg]\n",
    "    g = 9.81                            ## gravitational acceleration [m/s²]\n",
    "    du[1] = u[2]                        ## θ'(t) = ω(t)\n",
    "    du[2] = -3g / (2l) * sin(u[1]) + 3 / (m * l^2) * p(t) # ω'(t) = -3g/(2l) sin θ(t) + 3/(ml^2)M(t)\n",
    "    return nothing\n",
    "end\n",
    "\n",
    "u0 = [0.01, 0.0]                     ## initial angular deflection [rad] and angular velocity [rad/s]\n",
    "tspan = (0.0, 10.0)                  ## time interval\n",
    "\n",
    "M = t -> 0.1 * sin(t)                   ## external torque [Nm] as the parameter for the pendulum model\n",
    "\n",
    "prob = ODEProblem(pendulum!, u0, tspan, M)\n",
    "sol = solve(prob)\n",
    "\n",
    "plot(sol, linewidth=2, xaxis=\"t\", label=[\"θ [rad]\" \"ω [rad/s]\"])\n",
    "plot!(M, tspan..., label=\"Ext. force\")"
   ],
   "metadata": {},
   "execution_count": null
  },
  {
   "cell_type": "markdown",
   "source": [
    "## Linear ODE system\n",
    "\n",
    "The ODE system could be anything as long as it returns the derivatives of state variables. In this example, the ODE system is described by a matrix differential operator.\n",
    "\n",
    "$\\dot{u} = Au$"
   ],
   "metadata": {}
  },
  {
   "outputs": [],
   "cell_type": "code",
   "source": [
    "using OrdinaryDiffEq\n",
    "using Plots\n",
    "\n",
    "A = [\n",
    "    1.0 0 0 -5\n",
    "    4 -2 4 -3\n",
    "    -4 0 0 1\n",
    "    5 -2 2 3\n",
    "]\n",
    "\n",
    "u0 = rand(4, 2)\n",
    "\n",
    "tspan = (0.0, 1.0)\n",
    "f = (u, p, t) -> A * u\n",
    "prob = ODEProblem(f, u0, tspan)\n",
    "sol = solve(prob)\n",
    "plot(sol)"
   ],
   "metadata": {},
   "execution_count": null
  },
  {
   "cell_type": "markdown",
   "source": [
    "---\n",
    "\n",
    "*This notebook was generated using [Literate.jl](https://github.com/fredrikekre/Literate.jl).*"
   ],
   "metadata": {}
  }
 ],
 "nbformat_minor": 3,
 "metadata": {
  "language_info": {
   "file_extension": ".jl",
   "mimetype": "application/julia",
   "name": "julia",
   "version": "1.11.7"
  },
  "kernelspec": {
   "name": "julia-1.11",
   "display_name": "Julia 1.11.7",
   "language": "julia"
  }
 },
 "nbformat": 4
}

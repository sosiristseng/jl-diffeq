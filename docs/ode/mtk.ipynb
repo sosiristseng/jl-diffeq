{
 "cells": [
  {
   "cell_type": "markdown",
   "source": [
    "# ModelingToolkit: define ODEs with symbolic expressions\n",
    "\n",
    "You can also define ODE systems symbolically using [ModelingToolkit.jl (MTK)](https://github.com/SciML/ModelingToolkit.jl) and let MTK generate high-performance ODE functions.\n",
    "\n",
    "- transforming and simplifying expressions for performance\n",
    "- Jacobian and Hessian generation\n",
    "- accessing eliminated states (called observed variables)\n",
    "- building and connecting subsystems programmatically (component-based modeling)\n",
    "\n",
    "See also [Simulating Big Models in Julia with ModelingToolkit @ JuliaCon 2021 Workshop](https://youtu.be/HEVOgSLBzWA)."
   ],
   "metadata": {}
  },
  {
   "cell_type": "markdown",
   "source": [
    "## Radioactive decay\n",
    "Here we use the same example of decaying radioactive elements"
   ],
   "metadata": {}
  },
  {
   "outputs": [],
   "cell_type": "code",
   "source": [
    "using ModelingToolkit\n",
    "using OrdinaryDiffEq\n",
    "using Plots"
   ],
   "metadata": {},
   "execution_count": null
  },
  {
   "cell_type": "markdown",
   "source": [
    "independent variable (time) and dependent variables"
   ],
   "metadata": {}
  },
  {
   "outputs": [],
   "cell_type": "code",
   "source": [
    "@independent_variables t\n",
    "@variables c(t) RHS(t)"
   ],
   "metadata": {},
   "execution_count": null
  },
  {
   "cell_type": "markdown",
   "source": [
    "parameters: decay rate"
   ],
   "metadata": {}
  },
  {
   "outputs": [],
   "cell_type": "code",
   "source": [
    "@parameters λ"
   ],
   "metadata": {},
   "execution_count": null
  },
  {
   "cell_type": "markdown",
   "source": [
    "Differential operator w.r.t. time"
   ],
   "metadata": {}
  },
  {
   "outputs": [],
   "cell_type": "code",
   "source": [
    "D = Differential(t)"
   ],
   "metadata": {},
   "execution_count": null
  },
  {
   "cell_type": "markdown",
   "source": [
    "Equations in MTK use the tilde character (`~`) for equality.\n",
    "Every MTK system requires a name. The `@named` macro simply ensures that the symbolic name matches the name in the REPL."
   ],
   "metadata": {}
  },
  {
   "outputs": [],
   "cell_type": "code",
   "source": [
    "eqs = [\n",
    "    RHS ~ -λ * c\n",
    "    D(c) ~ RHS\n",
    "]"
   ],
   "metadata": {},
   "execution_count": null
  },
  {
   "cell_type": "markdown",
   "source": [
    "Build and ODE system from equations"
   ],
   "metadata": {}
  },
  {
   "outputs": [],
   "cell_type": "code",
   "source": [
    "@mtkbuild sys = ODESystem(eqs, t)"
   ],
   "metadata": {},
   "execution_count": null
  },
  {
   "cell_type": "markdown",
   "source": [
    "Setup initial conditions, time span, parameter values, the `ODEProblem`, and solve the problem."
   ],
   "metadata": {}
  },
  {
   "outputs": [],
   "cell_type": "code",
   "source": [
    "p = [λ => 1.0]\n",
    "u0 = [c => 1.0]\n",
    "tspan = (0.0, 2.0)\n",
    "prob = ODEProblem(sys, u0, tspan, p);\n",
    "sol = solve(prob)"
   ],
   "metadata": {},
   "execution_count": null
  },
  {
   "cell_type": "markdown",
   "source": [
    "Visualize the solution"
   ],
   "metadata": {}
  },
  {
   "outputs": [],
   "cell_type": "code",
   "source": [
    "plot(sol, label=\"Exp decay\")"
   ],
   "metadata": {},
   "execution_count": null
  },
  {
   "cell_type": "markdown",
   "source": [
    "The solution interface provides symbolic access. You can access the results of `c` directly."
   ],
   "metadata": {}
  },
  {
   "outputs": [],
   "cell_type": "code",
   "source": [
    "sol[c]"
   ],
   "metadata": {},
   "execution_count": null
  },
  {
   "cell_type": "markdown",
   "source": [
    "With interpolations with specified time points"
   ],
   "metadata": {}
  },
  {
   "outputs": [],
   "cell_type": "code",
   "source": [
    "sol(0.0:0.1:2.0, idxs=c)"
   ],
   "metadata": {},
   "execution_count": null
  },
  {
   "cell_type": "markdown",
   "source": [
    "The eliminated term (RHS in this example) is still traceable."
   ],
   "metadata": {}
  },
  {
   "outputs": [],
   "cell_type": "code",
   "source": [
    "plot(sol, idxs=[c, RHS], legend=:right)"
   ],
   "metadata": {},
   "execution_count": null
  },
  {
   "cell_type": "markdown",
   "source": [
    "The indexing interface allows symbolic calculations."
   ],
   "metadata": {}
  },
  {
   "outputs": [],
   "cell_type": "code",
   "source": [
    "plot(sol, idxs=[c * 1000])"
   ],
   "metadata": {},
   "execution_count": null
  },
  {
   "cell_type": "markdown",
   "source": [
    "## Lorenz system\n",
    "\n",
    "Here we setup the initial conditions and parameters with default values."
   ],
   "metadata": {}
  },
  {
   "outputs": [],
   "cell_type": "code",
   "source": [
    "@independent_variables t\n",
    "@variables x(t) = 1.0 y(t) = 0.0 z(t) = 0.0\n",
    "@parameters (σ=10.0, ρ=28.0, β=8 / 3)\n",
    "\n",
    "D = Differential(t)\n",
    "\n",
    "eqs = [\n",
    "    D(x) ~ σ * (y - x)\n",
    "    D(y) ~ x * (ρ - z) - y\n",
    "    D(z) ~ x * y - β * z\n",
    "]\n",
    "\n",
    "@mtkbuild sys = ODESystem(eqs, t)"
   ],
   "metadata": {},
   "execution_count": null
  },
  {
   "cell_type": "markdown",
   "source": [
    "Here we are using default values, so we pass empty arrays for initial conditions and parameter values."
   ],
   "metadata": {}
  },
  {
   "outputs": [],
   "cell_type": "code",
   "source": [
    "tspan = (0.0, 100.0)\n",
    "prob = ODEProblem(sys, [], tspan, []);\n",
    "sol = solve(prob)"
   ],
   "metadata": {},
   "execution_count": null
  },
  {
   "cell_type": "markdown",
   "source": [
    "Phase plot w.r.t symbols."
   ],
   "metadata": {}
  },
  {
   "outputs": [],
   "cell_type": "code",
   "source": [
    "plot(sol, idxs=(x, y, z), size=(600, 600))"
   ],
   "metadata": {},
   "execution_count": null
  },
  {
   "cell_type": "markdown",
   "source": [
    "## Non-autonomous ODEs\n",
    "\n",
    "Sometimes a model might have a time-variant external force, which is too complex or impossible to express it symbolically. In such situation, one could apply `@register_symbolic` to it to exclude it from symbolic transformations and use it numerically."
   ],
   "metadata": {}
  },
  {
   "outputs": [],
   "cell_type": "code",
   "source": [
    "@independent_variables t\n",
    "@variables x(t) f(t)\n",
    "@parameters τ\n",
    "D = Differential(t)"
   ],
   "metadata": {},
   "execution_count": null
  },
  {
   "cell_type": "markdown",
   "source": [
    "Define a time-dependent random external force"
   ],
   "metadata": {}
  },
  {
   "outputs": [],
   "cell_type": "code",
   "source": [
    "value_vector = randn(10)\n",
    "f_fun(t) = t >= 10 ? value_vector[end] : value_vector[Int(floor(t))+1]"
   ],
   "metadata": {},
   "execution_count": null
  },
  {
   "cell_type": "markdown",
   "source": [
    "\"Register\" arbitrary Julia functions to be excluded from symbolic transformations. Just use it as-is."
   ],
   "metadata": {}
  },
  {
   "outputs": [],
   "cell_type": "code",
   "source": [
    "@register_symbolic f_fun(t)\n",
    "@mtkbuild fol_external_f = ODESystem([f ~ f_fun(t), D(x) ~ (f - x) / τ], t)\n",
    "\n",
    "prob = ODEProblem(fol_external_f, [x => 0.0], (0.0, 10.0), [τ => 0.75]);\n",
    "sol = solve(prob)\n",
    "plot(sol, idxs=[x, f])"
   ],
   "metadata": {},
   "execution_count": null
  },
  {
   "cell_type": "markdown",
   "source": [
    "## Second-order ODE systems\n",
    "\n",
    "`ode_order_lowering(sys)` automatically transforms a second-order ODE into two first-order ODEs."
   ],
   "metadata": {}
  },
  {
   "outputs": [],
   "cell_type": "code",
   "source": [
    "using Plots\n",
    "using ModelingToolkit\n",
    "using OrdinaryDiffEq\n",
    "\n",
    "@parameters σ ρ β\n",
    "@independent_variables t\n",
    "@variables x(t) y(t) z(t)\n",
    "D = Differential(t)\n",
    "\n",
    "eqs = [\n",
    "    D(D(x)) ~ σ * (y - x),\n",
    "    D(y) ~ x * (ρ - z) - y,\n",
    "    D(z) ~ x * y - β * z\n",
    "]\n",
    "\n",
    "@mtkbuild sys = ODESystem(eqs, t)"
   ],
   "metadata": {},
   "execution_count": null
  },
  {
   "cell_type": "markdown",
   "source": [
    "Note that you need to provide the initial condition for x's derivative (`D(x)`)."
   ],
   "metadata": {}
  },
  {
   "outputs": [],
   "cell_type": "code",
   "source": [
    "u0 = [\n",
    "    D(x) => 2.0,\n",
    "    x => 1.0,\n",
    "    y => 0.0,\n",
    "    z => 0.0\n",
    "]\n",
    "\n",
    "p = [\n",
    "    σ => 28.0,\n",
    "    ρ => 10.0,\n",
    "    β => 8 / 3\n",
    "]\n",
    "\n",
    "tspan = (0.0, 100.0)\n",
    "prob = ODEProblem(sys, u0, tspan, p, jac=true)\n",
    "sol = solve(prob)\n",
    "plot(sol, idxs=(x, y, z), label=\"Trajectory\", size=(500, 500))"
   ],
   "metadata": {},
   "execution_count": null
  },
  {
   "cell_type": "markdown",
   "source": [
    "## Composing systems\n",
    "\n",
    "https://docs.sciml.ai/ModelingToolkit/stable/basics/Composition/\n",
    "\n",
    "By connecting equation(s) to couple ODE systems together, we can build component-based, hierarchical models."
   ],
   "metadata": {}
  },
  {
   "outputs": [],
   "cell_type": "code",
   "source": [
    "using Plots\n",
    "using OrdinaryDiffEq\n",
    "using ModelingToolkit\n",
    "using ModelingToolkit: t_nounits as t, D_nounits as D\n",
    "\n",
    "function decay(; name)\n",
    "    @parameters a\n",
    "    @variables x(t) f(t)\n",
    "    ODESystem([\n",
    "            D(x) ~ -a * x + f\n",
    "        ], t; name)\n",
    "end\n",
    "\n",
    "@named decay1 = decay()\n",
    "@named decay2 = decay()"
   ],
   "metadata": {},
   "execution_count": null
  },
  {
   "cell_type": "markdown",
   "source": [
    "Define relations (connectors) between the two systems."
   ],
   "metadata": {}
  },
  {
   "outputs": [],
   "cell_type": "code",
   "source": [
    "connected = compose(\n",
    "    ODESystem([\n",
    "            decay2.f ~ decay1.x,\n",
    "            D(decay1.f) ~ 0], t; name=:connected), decay1, decay2)\n",
    "\n",
    "equations(connected)"
   ],
   "metadata": {},
   "execution_count": null
  },
  {
   "outputs": [],
   "cell_type": "code",
   "source": [
    "simplified_sys = structural_simplify(connected)\n",
    "equations(simplified_sys)"
   ],
   "metadata": {},
   "execution_count": null
  },
  {
   "outputs": [],
   "cell_type": "code",
   "source": [
    "x0 = [decay1.x => 1.0\n",
    "      decay1.f => 0.0\n",
    "      decay2.x => 1.0]\n",
    "p = [decay1.a => 0.1\n",
    "     decay2.a => 0.2]\n",
    "\n",
    "\n",
    "tspan = (0.0, 100.0)\n",
    "sol = solve(ODEProblem(simplified_sys, x0, tspan, p))\n",
    "plot(sol, idxs=[decay1.x, decay2.x])"
   ],
   "metadata": {},
   "execution_count": null
  },
  {
   "cell_type": "markdown",
   "source": [
    "### Convert existing functions into MTK systems\n",
    "\n",
    "`modelingtoolkitize(prob)` generates MKT systems from regular DE problems. I t can also generate analytic Jacobin functions for faster solving.\n",
    "\n",
    "Example: **[DAE index reduction](https://mtk.sciml.ai/stable/mtkitize_tutorials/modelingtoolkitize_index_reduction/)** for the pendulum problem, which cannot be solved by regular ODE solvers."
   ],
   "metadata": {}
  },
  {
   "outputs": [],
   "cell_type": "code",
   "source": [
    "using Plots\n",
    "using ModelingToolkit\n",
    "using OrdinaryDiffEq\n",
    "using LinearAlgebra\n",
    "\n",
    "function pendulum!(du, u, p, t)\n",
    "    x, dx, y, dy, T = u\n",
    "    g, L = p\n",
    "    du[1] = dx\n",
    "    du[2] = T * x\n",
    "    du[3] = dy\n",
    "    du[4] = T * y - g\n",
    "    # Do not write your function like this after you've learned MTK\n",
    "    du[5] = x^2 + y^2 - L^2\n",
    "    return nothing\n",
    "end\n",
    "\n",
    "pendulum_fun! = ODEFunction(pendulum!, mass_matrix=Diagonal([1, 1, 1, 1, 0]))\n",
    "u0 = [1.0, 0.0, 0.0, 0.0, 0.0]\n",
    "p = [9.8, 1.0]\n",
    "tspan = (0.0, 10.0)\n",
    "pendulum_prob = ODEProblem(pendulum_fun!, u0, tspan, p)"
   ],
   "metadata": {},
   "execution_count": null
  },
  {
   "cell_type": "markdown",
   "source": [
    "Convert the ODE problem into a MTK system."
   ],
   "metadata": {}
  },
  {
   "outputs": [],
   "cell_type": "code",
   "source": [
    "tracedSys = modelingtoolkitize(pendulum_prob)"
   ],
   "metadata": {},
   "execution_count": null
  },
  {
   "cell_type": "markdown",
   "source": [
    "`structural_simplify()` and `dae_index_lowering()` transform the index-3 DAE into an index-0 ODE."
   ],
   "metadata": {}
  },
  {
   "outputs": [],
   "cell_type": "code",
   "source": [
    "pendulumSys = tracedSys |> dae_index_lowering |> structural_simplify"
   ],
   "metadata": {},
   "execution_count": null
  },
  {
   "cell_type": "markdown",
   "source": [
    "The default `u0` is included in the system already so one can use an empty array `[]` as the initial conditions."
   ],
   "metadata": {}
  },
  {
   "outputs": [],
   "cell_type": "code",
   "source": [
    "prob = ODEProblem(pendulumSys, [], tspan);\n",
    "sol = solve(prob, Rodas5P(), abstol=1e-8, reltol=1e-8)"
   ],
   "metadata": {},
   "execution_count": null
  },
  {
   "outputs": [],
   "cell_type": "code",
   "source": [
    "plot(sol, idxs=unknowns(tracedSys))"
   ],
   "metadata": {},
   "execution_count": null
  },
  {
   "cell_type": "markdown",
   "source": [
    "---\n",
    "\n",
    "*This notebook was generated using [Literate.jl](https://github.com/fredrikekre/Literate.jl).*"
   ],
   "metadata": {}
  }
 ],
 "nbformat_minor": 3,
 "metadata": {
  "language_info": {
   "file_extension": ".jl",
   "mimetype": "application/julia",
   "name": "julia",
   "version": "1.12.0"
  },
  "kernelspec": {
   "name": "julia-1.12",
   "display_name": "Julia 1.12.0",
   "language": "julia"
  }
 },
 "nbformat": 4
}
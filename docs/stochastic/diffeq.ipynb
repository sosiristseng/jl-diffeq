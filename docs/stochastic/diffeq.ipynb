{
 "cells": [
  {
   "cell_type": "markdown",
   "source": [
    "# Stochastic Differential Equations (SDEs)\n",
    "\n",
    "- [Wikipedia: Stochastic Differential Equations](https://en.wikipedia.org/wiki/Stochastic_differential_equation)\n",
    "- [SDE example](https://diffeq.sciml.ai/stable/tutorials/sde_example/)\n",
    "- [RODE example](https://diffeq.sciml.ai/stable/tutorials/rode_example/)\n",
    "\n",
    "## Stochastic Differential Equations (SDEs)\n",
    "\n",
    "- Recommended SDE solvers: https://docs.sciml.ai/DiffEqDocs/stable/solvers/sde_solve/\n",
    "\n",
    "### Scalar SDEs with one state variable\n",
    "\n",
    "Solving the equation: $du=f(u,p,t)dt + g(u,p,t)dW$\n",
    "\n",
    "- $f(u,p,t)$ is the ordinary differential equations (ODEs) part\n",
    "- $g(u,p,t)$ is the stochastic part, paired with a Brownian motion term $dW$."
   ],
   "metadata": {}
  },
  {
   "outputs": [],
   "cell_type": "code",
   "source": [
    "using StochasticDiffEq\n",
    "using Plots"
   ],
   "metadata": {},
   "execution_count": null
  },
  {
   "cell_type": "markdown",
   "source": [
    "ODE function"
   ],
   "metadata": {}
  },
  {
   "outputs": [],
   "cell_type": "code",
   "source": [
    "f = (u, p, t) -> p.α * u"
   ],
   "metadata": {},
   "execution_count": null
  },
  {
   "cell_type": "markdown",
   "source": [
    "Noise term"
   ],
   "metadata": {}
  },
  {
   "outputs": [],
   "cell_type": "code",
   "source": [
    "g = (u, p, t) -> p.β * u"
   ],
   "metadata": {},
   "execution_count": null
  },
  {
   "cell_type": "markdown",
   "source": [
    "Setup the SDE problem"
   ],
   "metadata": {}
  },
  {
   "outputs": [],
   "cell_type": "code",
   "source": [
    "p = (α=1, β=1)\n",
    "u0 = 1 / 2\n",
    "dt = 1 // 2^(4)\n",
    "tspan = (0.0, 1.0)\n",
    "prob = SDEProblem(f, g, u0, (0.0, 1.0), p)"
   ],
   "metadata": {},
   "execution_count": null
  },
  {
   "cell_type": "markdown",
   "source": [
    "Use the classic Euler-Maruyama algorithm to solve the problem"
   ],
   "metadata": {}
  },
  {
   "outputs": [],
   "cell_type": "code",
   "source": [
    "sol = solve(prob, EM(), dt=dt)"
   ],
   "metadata": {},
   "execution_count": null
  },
  {
   "cell_type": "markdown",
   "source": [
    "Visualize"
   ],
   "metadata": {}
  },
  {
   "outputs": [],
   "cell_type": "code",
   "source": [
    "plot(sol)"
   ],
   "metadata": {},
   "execution_count": null
  },
  {
   "cell_type": "markdown",
   "source": [
    "The analytical solution: If $f(u,p,t) = \\alpha u$ and $g(u,p,t) = \\beta u$, the analytical solution is $u(t, W_t) = u_0 exp((\\alpha - \\frac{\\beta^2}{2})t + \\beta W_t)$"
   ],
   "metadata": {}
  },
  {
   "outputs": [],
   "cell_type": "code",
   "source": [
    "f_analytic = (u0, p, t, W) -> u0 * exp((p.α - (p.β^2) / 2) * t + p.β * W)\n",
    "ff = SDEFunction(f, g, analytic=f_analytic)\n",
    "prob = SDEProblem(ff, g, u0, (0.0, 1.0), p)"
   ],
   "metadata": {},
   "execution_count": null
  },
  {
   "cell_type": "markdown",
   "source": [
    "Visualize numerical and analytical solutions"
   ],
   "metadata": {}
  },
  {
   "outputs": [],
   "cell_type": "code",
   "source": [
    "sol = solve(prob, EM(), dt=dt)\n",
    "plot(sol, plot_analytic=true)"
   ],
   "metadata": {},
   "execution_count": null
  },
  {
   "cell_type": "markdown",
   "source": [
    "Use a higher-order adaptive solver `SRIW1()` for a more accurate result"
   ],
   "metadata": {}
  },
  {
   "outputs": [],
   "cell_type": "code",
   "source": [
    "sol = solve(prob, SRIW1())\n",
    "plot(sol, plot_analytic=true)"
   ],
   "metadata": {},
   "execution_count": null
  },
  {
   "cell_type": "markdown",
   "source": [
    "### SDEs with diagonal Noise\n",
    "Each state variable are influenced by its own noise. Here we use the Lorenz system with noise as an example."
   ],
   "metadata": {}
  },
  {
   "outputs": [],
   "cell_type": "code",
   "source": [
    "using StochasticDiffEq\n",
    "using Plots\n",
    "\n",
    "function lorenz!(du, u, p, t)\n",
    "    du[1] = 10.0(u[2] - u[1])\n",
    "    du[2] = u[1] * (28.0 - u[3]) - u[2]\n",
    "    du[3] = u[1] * u[2] - (8 / 3) * u[3]\n",
    "end\n",
    "\n",
    "function σ_lorenz!(du, u, p, t)\n",
    "    du[1] = 3.0\n",
    "    du[2] = 3.0\n",
    "    du[3] = 3.0\n",
    "end\n",
    "\n",
    "prob_sde_lorenz = SDEProblem(lorenz!, σ_lorenz!, [1.0, 0.0, 0.0], (0.0, 20.0))\n",
    "sol = solve(prob_sde_lorenz, SRIW1())\n",
    "plot(sol, idxs=(1, 2, 3), label=false)"
   ],
   "metadata": {},
   "execution_count": null
  },
  {
   "cell_type": "markdown",
   "source": [
    "### SDEs with scalar Noise\n",
    "The same noise process (`W`) is applied to all state variables."
   ],
   "metadata": {}
  },
  {
   "outputs": [],
   "cell_type": "code",
   "source": [
    "using StochasticDiffEq\n",
    "using DiffEqNoiseProcess: WienerProcess\n",
    "using Plots"
   ],
   "metadata": {},
   "execution_count": null
  },
  {
   "cell_type": "markdown",
   "source": [
    "Exponential growth with noise"
   ],
   "metadata": {}
  },
  {
   "outputs": [],
   "cell_type": "code",
   "source": [
    "f = (du, u, p, t) -> (du .= u)\n",
    "g = (du, u, p, t) -> (du .= u)"
   ],
   "metadata": {},
   "execution_count": null
  },
  {
   "cell_type": "markdown",
   "source": [
    "Problem setup"
   ],
   "metadata": {}
  },
  {
   "outputs": [],
   "cell_type": "code",
   "source": [
    "u0 = rand(4, 2)\n",
    "W = WienerProcess(0.0, 0.0, 0.0)\n",
    "prob = SDEProblem(f, g, u0, (0.0, 1.0), noise=W)"
   ],
   "metadata": {},
   "execution_count": null
  },
  {
   "cell_type": "markdown",
   "source": [
    "Solve and visualize"
   ],
   "metadata": {}
  },
  {
   "outputs": [],
   "cell_type": "code",
   "source": [
    "sol = solve(prob, SRIW1())\n",
    "plot(sol)"
   ],
   "metadata": {},
   "execution_count": null
  },
  {
   "cell_type": "markdown",
   "source": [
    "### SDEs with Non-Diagonal (matrix) Noise\n",
    "\n",
    "A more general type of noise allows for the terms to linearly mixed via noise function `g` being a matrix.\n",
    "\n",
    "$$\n",
    "\\begin{aligned}\n",
    "du_1 &= f_1(u,p,t)dt + g_{11}(u,p,t)dW_1 + g_{12}(u,p,t)dW_2 + g_{13}(u,p,t)dW_3 + g_{14}(u,p,t)dW_4  \\\\\n",
    "du_2 &= f_2(u,p,t)dt + g_{21}(u,p,t)dW_1 + g_{22}(u,p,t)dW_2 + g_{23}(u,p,t)dW_3 + g_{24}(u,p,t)dW_4\n",
    "\\end{aligned}\n",
    "$$"
   ],
   "metadata": {}
  },
  {
   "outputs": [],
   "cell_type": "code",
   "source": [
    "using StochasticDiffEq\n",
    "using Plots\n",
    "\n",
    "f = (du, u, p, t) -> du .= 1.01u\n",
    "\n",
    "g = (du, u, p, t) -> begin\n",
    "    du[1, 1] = 0.3u[1]\n",
    "    du[1, 2] = 0.6u[1]\n",
    "    du[1, 3] = 0.9u[1]\n",
    "    du[1, 4] = 0.12u[1]\n",
    "    du[2, 1] = 1.2u[2]\n",
    "    du[2, 2] = 0.2u[2]\n",
    "    du[2, 3] = 0.3u[2]\n",
    "    du[2, 4] = 1.8u[2]\n",
    "end\n",
    "\n",
    "u0 = ones(2)\n",
    "tspan = (0.0, 1.0)"
   ],
   "metadata": {},
   "execution_count": null
  },
  {
   "cell_type": "markdown",
   "source": [
    "The noise matrix itself is determined by the keyword argument noise_rate_prototype"
   ],
   "metadata": {}
  },
  {
   "outputs": [],
   "cell_type": "code",
   "source": [
    "prob = SDEProblem(f, g, u0, tspan, noise_rate_prototype=zeros(2, 4))\n",
    "sol = solve(prob, LambaEulerHeun())\n",
    "plot(sol)"
   ],
   "metadata": {},
   "execution_count": null
  },
  {
   "cell_type": "markdown",
   "source": [
    "### Random ODEs\n",
    "\n",
    "https://docs.sciml.ai/DiffEqDocs/stable/tutorials/rode_example/\n",
    "\n",
    "Random ODEs (RODEs) is a more general form that allows nonlinear mixings of randomness.\n",
    "\n",
    "$du = f(u, p, t, W) dt$ where $W(t)$ is a Wiener process (Gaussian process).\n",
    "\n",
    "`RODEProblem(f, u0, tspan [, params])` constructs an RODE problem.\n",
    "\n",
    "The model function signature is\n",
    "- `f(u, p, t, W)` (out-of-place form).\n",
    "- `f(du, u, p, t, W)` (in-place form)."
   ],
   "metadata": {}
  },
  {
   "outputs": [],
   "cell_type": "code",
   "source": [
    "using StochasticDiffEq\n",
    "using Plots"
   ],
   "metadata": {},
   "execution_count": null
  },
  {
   "cell_type": "markdown",
   "source": [
    "Scalar RODEs"
   ],
   "metadata": {}
  },
  {
   "outputs": [],
   "cell_type": "code",
   "source": [
    "u0 = 1.00\n",
    "tspan = (0.0, 5.0)\n",
    "prob = RODEProblem((u, p, t, W) -> 2u * sin(W), u0, tspan)\n",
    "sol = solve(prob, RandomEM(), dt=1 / 100)\n",
    "plot(sol)"
   ],
   "metadata": {},
   "execution_count": null
  },
  {
   "cell_type": "markdown",
   "source": [
    "Systems of RODEs"
   ],
   "metadata": {}
  },
  {
   "outputs": [],
   "cell_type": "code",
   "source": [
    "function f4(du, u, p, t, W)\n",
    "    du[1] = 2u[1] * sin(W[1] - W[2])\n",
    "    du[2] = -2u[2] * cos(W[1] + W[2])\n",
    "end\n",
    "\n",
    "u0 = [1.00; 1.00]\n",
    "tspan = (0.0, 5.0)\n",
    "\n",
    "prob = RODEProblem(f4, u0, tspan)\n",
    "sol = solve(prob, RandomEM(), dt=1 / 100)\n",
    "plot(sol)"
   ],
   "metadata": {},
   "execution_count": null
  },
  {
   "cell_type": "markdown",
   "source": [
    "---\n",
    "\n",
    "*This notebook was generated using [Literate.jl](https://github.com/fredrikekre/Literate.jl).*"
   ],
   "metadata": {}
  }
 ],
 "nbformat_minor": 3,
 "metadata": {
  "language_info": {
   "file_extension": ".jl",
   "mimetype": "application/julia",
   "name": "julia",
   "version": "1.11.7"
  },
  "kernelspec": {
   "name": "julia-1.11",
   "display_name": "Julia 1.11.7",
   "language": "julia"
  }
 },
 "nbformat": 4
}
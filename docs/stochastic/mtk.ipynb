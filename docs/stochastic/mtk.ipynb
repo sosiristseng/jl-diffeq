{
 "cells": [
  {
   "cell_type": "markdown",
   "source": [
    "# SDEs with ModelingToolkit.jl\n",
    "\n",
    "Define a stochastic Lorentz system using `SDESystem(equations, noises, iv, dv, ps)`.\n",
    "\n",
    "Add a diagonal noise with 10% of the magnitude, using a Brownian variable (`@brownian x`)."
   ],
   "metadata": {}
  },
  {
   "outputs": [],
   "cell_type": "code",
   "source": [
    "using ModelingToolkit\n",
    "using StochasticDiffEq\n",
    "using Plots\n",
    "\n",
    "@parameters σ ρ β\n",
    "@independent_variables t\n",
    "@variables x(t) y(t) z(t)\n",
    "@brownian a\n",
    "D = Differential(t)\n",
    "\n",
    "eqs = [\n",
    "    D(x) ~ σ * (y - x) + 0.1a * x,\n",
    "    D(y) ~ x * (ρ - z) - y + 0.1a * y,\n",
    "    D(z) ~ x * y - β * z + 0.1a * z\n",
    "]\n",
    "\n",
    "@mtkbuild de = System(eqs, t)\n",
    "\n",
    "ics = [\n",
    "    x => 2.0,\n",
    "    y => 0.0,\n",
    "    z => 0.0\n",
    "]\n",
    "\n",
    "ps = [\n",
    "    σ => 10.0,\n",
    "    β => 8/3,\n",
    "    ρ => 28.0\n",
    "]\n",
    "\n",
    "tspan = (0.0, 100.0)\n",
    "\n",
    "prob = SDEProblem(de, ics, tspan, ps);\n",
    "sol = solve(prob, LambaEulerHeun())\n",
    "plot(sol, idxs=(x, y, z))"
   ],
   "metadata": {},
   "execution_count": null
  },
  {
   "cell_type": "markdown",
   "source": [
    "---\n",
    "\n",
    "*This notebook was generated using [Literate.jl](https://github.com/fredrikekre/Literate.jl).*"
   ],
   "metadata": {}
  }
 ],
 "nbformat_minor": 3,
 "metadata": {
  "language_info": {
   "file_extension": ".jl",
   "mimetype": "application/julia",
   "name": "julia",
   "version": "1.11.7"
  },
  "kernelspec": {
   "name": "julia-1.11",
   "display_name": "Julia 1.11.7",
   "language": "julia"
  }
 },
 "nbformat": 4
}
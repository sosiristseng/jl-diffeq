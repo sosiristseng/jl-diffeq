{
 "cells": [
  {
   "cell_type": "markdown",
   "source": [
    "# ComponentArrays\n",
    "https://github.com/SciML/ComponentArrays.jl are array blocks that can be accessed through a named index.\n",
    "You can compose differential equations without ModelingToolkit."
   ],
   "metadata": {}
  },
  {
   "outputs": [],
   "cell_type": "code",
   "source": [
    "using ComponentArrays\n",
    "using OrdinaryDiffEq\n",
    "using SimpleUnPack: @unpack\n",
    "\n",
    "tspan = (0.0, 20.0)\n",
    "\n",
    "# Lorenz system\n",
    "function lorenz!(D, u, p, t; f=0.0)\n",
    "    @unpack σ, ρ, β = p\n",
    "    @unpack x, y, z = u\n",
    "\n",
    "    D.x = σ*(y - x)\n",
    "    D.y = x*(ρ - z) - y - f\n",
    "    D.z = x*y - β*z\n",
    "    return nothing\n",
    "end\n",
    "\n",
    "lorenz_p = (σ=10.0, ρ=28.0, β=8/3)\n",
    "lorenz_ic = ComponentArray(x=1.0, y=0.0, z=0.0)\n",
    "lorenz_prob = ODEProblem(lorenz!, lorenz_ic, tspan, lorenz_p)\n",
    "\n",
    "\n",
    "# Lotka-Volterra system\n",
    "function lotka!(D, u, p, t; f=0.0)\n",
    "    @unpack α, β, γ, δ = p\n",
    "    @unpack x, y = u\n",
    "\n",
    "    D.x =  α*x - β*x*y + f\n",
    "    D.y = -γ*y + δ*x*y\n",
    "    return nothing\n",
    "end\n",
    "\n",
    "lotka_p = (α=2/3, β=4/3, γ=1.0, δ=1.0)\n",
    "lotka_ic = ComponentArray(x=1.0, y=1.0)\n",
    "lotka_prob = ODEProblem(lotka!, lotka_ic, tspan, lotka_p)\n",
    "\n",
    "# Composed Lorenz and Lotka-Volterra system\n",
    "function composed!(D, u, p, t)\n",
    "    c = p.c #coupling parameter\n",
    "    @unpack lorenz, lotka = u\n",
    "\n",
    "    lorenz!(D.lorenz, lorenz, p.lorenz, t, f=c*lotka.x)\n",
    "    lotka!(D.lotka, lotka, p.lotka, t, f=c*lorenz.x)\n",
    "    return nothing\n",
    "end\n",
    "\n",
    "comp_p = (lorenz=lorenz_p, lotka=lotka_p, c=0.01)\n",
    "comp_ic = ComponentArray(lorenz=lorenz_ic, lotka=lotka_ic)\n",
    "comp_prob = ODEProblem(composed!, comp_ic, tspan, comp_p)"
   ],
   "metadata": {},
   "execution_count": null
  },
  {
   "cell_type": "markdown",
   "source": [
    "Solve problem\n",
    "We can solve the composed system..."
   ],
   "metadata": {}
  },
  {
   "outputs": [],
   "cell_type": "code",
   "source": [
    "comp_sol = solve(comp_prob)"
   ],
   "metadata": {},
   "execution_count": null
  },
  {
   "outputs": [],
   "cell_type": "code",
   "source": [
    "map(comp_sol(0:0.1:20).u) do u\n",
    "    u.lotka.x\n",
    "end"
   ],
   "metadata": {},
   "execution_count": null
  },
  {
   "cell_type": "markdown",
   "source": [
    "...or we can unit test one of the component systems"
   ],
   "metadata": {}
  },
  {
   "outputs": [],
   "cell_type": "code",
   "source": [
    "lotka_sol = solve(lotka_prob)\n",
    "lotka_sol(1.0).x"
   ],
   "metadata": {},
   "execution_count": null
  },
  {
   "cell_type": "markdown",
   "source": [
    "Symbolic mapping in `ODEFunction` using `syms=...`\n",
    "Only available in non-nested ComponentArrays"
   ],
   "metadata": {}
  },
  {
   "outputs": [],
   "cell_type": "code",
   "source": [
    "lotka_func = ODEFunction(lotka!; syms=keys(lotka_ic))\n",
    "lab_sol = solve(ODEProblem(lotka_func, lotka_ic, tspan, lotka_p))\n",
    "lab_sol(1.0, idxs=:x)"
   ],
   "metadata": {},
   "execution_count": null
  },
  {
   "cell_type": "markdown",
   "source": [
    "---\n",
    "\n",
    "*This notebook was generated using [Literate.jl](https://github.com/fredrikekre/Literate.jl).*"
   ],
   "metadata": {}
  }
 ],
 "nbformat_minor": 3,
 "metadata": {
  "language_info": {
   "file_extension": ".jl",
   "mimetype": "application/julia",
   "name": "julia",
   "version": "1.11.4"
  },
  "kernelspec": {
   "name": "julia-1.11",
   "display_name": "Julia 1.11.4",
   "language": "julia"
  }
 },
 "nbformat": 4
}

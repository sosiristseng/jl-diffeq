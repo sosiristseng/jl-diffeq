{
 "cells": [
  {
   "cell_type": "markdown",
   "source": [
    "# Get the ODE function from ModelingToolkit\n",
    "`f = ODEFunction(sys)` could be useful in visualizing vector fields."
   ],
   "metadata": {}
  },
  {
   "outputs": [],
   "cell_type": "code",
   "source": [
    "using ModelingToolkit\n",
    "using OrdinaryDiffEq\n",
    "using Plots\n",
    "\n",
    "@independent_variables t\n",
    "@variables x(t) RHS(t)\n",
    "@parameters τ\n",
    "D = Differential(t)"
   ],
   "metadata": {},
   "execution_count": null
  },
  {
   "cell_type": "markdown",
   "source": [
    "Equations in MTK use the tilde character (`~`) as equality.\n",
    "Every MTK system requires a name. The `@named` macro simply ensures that the symbolic name matches the name in the REPL."
   ],
   "metadata": {}
  },
  {
   "outputs": [],
   "cell_type": "code",
   "source": [
    "eqs = [\n",
    "    RHS  ~ (1 - x)/τ,\n",
    "    D(x) ~ RHS\n",
    "]\n",
    "\n",
    "@mtkbuild fol_separate = ODESystem(eqs, t)\n",
    "f = ODEFunction(fol_separate)"
   ],
   "metadata": {},
   "execution_count": null
  },
  {
   "cell_type": "markdown",
   "source": [
    "f(u, p, t) returns the value of derivatives"
   ],
   "metadata": {}
  },
  {
   "outputs": [],
   "cell_type": "code",
   "source": [
    "f([0.0], [1.0], 0.0)"
   ],
   "metadata": {},
   "execution_count": null
  },
  {
   "cell_type": "markdown",
   "source": [
    "If you already have the ODEproblem, the function is `prob.f`."
   ],
   "metadata": {}
  },
  {
   "outputs": [],
   "cell_type": "code",
   "source": [
    "prob = ODEProblem(fol_separate, [x => 0.0], (0.0, 1.0), [τ => 1.0]);\n",
    "f = prob.f\n",
    "f([0.0], [1.0], 0.0)"
   ],
   "metadata": {},
   "execution_count": null
  },
  {
   "cell_type": "markdown",
   "source": [
    "---\n",
    "\n",
    "*This notebook was generated using [Literate.jl](https://github.com/fredrikekre/Literate.jl).*"
   ],
   "metadata": {}
  }
 ],
 "nbformat_minor": 3,
 "metadata": {
  "language_info": {
   "file_extension": ".jl",
   "mimetype": "application/julia",
   "name": "julia",
   "version": "1.11.7"
  },
  "kernelspec": {
   "name": "julia-1.11",
   "display_name": "Julia 1.11.7",
   "language": "julia"
  }
 },
 "nbformat": 4
}

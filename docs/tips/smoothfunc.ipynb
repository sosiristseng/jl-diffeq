{
 "cells": [
  {
   "cell_type": "markdown",
   "source": [
    "# Use smooth functions\n",
    "\n",
    "Use smooth and differentiable functions instead of discontinuities for automatic differentiation (AD) and differential equation solvers.\n",
    "\n",
    "## Heaviside step function\n",
    "\n",
    "A [Heaviside step function](https://en.wikipedia.org/wiki/Heaviside_step_function) (0 when x < a, 1 when x > a) could be approximated with a steep [logistic function](https://en.wikipedia.org/wiki/Logistic_function)."
   ],
   "metadata": {}
  },
  {
   "outputs": [],
   "cell_type": "code",
   "source": [
    "using Plots"
   ],
   "metadata": {},
   "execution_count": null
  },
  {
   "cell_type": "markdown",
   "source": [
    "The function output switches from zero to one around `x=0`.\n",
    "`k` is the steepness of the function."
   ],
   "metadata": {}
  },
  {
   "outputs": [],
   "cell_type": "code",
   "source": [
    "function smoothheaviside(x, k=1000)\n",
    "    return 1 / (1 + exp(-k * x))\n",
    "end\n",
    "\n",
    "plot(smoothheaviside, -1, 1)\n",
    "\n",
    "### Smooth step function with `sqrt`\n",
    "function smoothstep_sqrt(x; c=(1//2)^10)\n",
    "    0.5 * (x / (sqrt(x^2 + c)) + 1)\n",
    "end\n",
    "\n",
    "plot(smoothstep_sqrt, -10, 10)"
   ],
   "metadata": {},
   "execution_count": null
  },
  {
   "cell_type": "markdown",
   "source": [
    "## Smooth single pulse\n",
    "A single pulse could be built with a product of two step functions."
   ],
   "metadata": {}
  },
  {
   "outputs": [],
   "cell_type": "code",
   "source": [
    "function singlepulse(x, t0=0, t1=0.1, k=1000)\n",
    "    smoothheaviside(x - t0, k) * smoothheaviside(t1 - x, k)\n",
    "end\n",
    "\n",
    "plot(singlepulse, -1, 1)"
   ],
   "metadata": {},
   "execution_count": null
  },
  {
   "cell_type": "markdown",
   "source": [
    "## Smooth absolute value\n",
    "Inspired by: https://discourse.julialang.org/t/smooth-approximation-to-max-0-x/109383/13"
   ],
   "metadata": {}
  },
  {
   "cell_type": "markdown",
   "source": [
    "Approximate `abs(x)`"
   ],
   "metadata": {}
  },
  {
   "outputs": [],
   "cell_type": "code",
   "source": [
    "function smoothabs(x; c=(1//2)^10)\n",
    "    hypot(x, c) - c\n",
    "end\n",
    "\n",
    "plot(smoothabs, -10, 10)\n",
    "\n",
    "# Smooth max function"
   ],
   "metadata": {},
   "execution_count": null
  },
  {
   "cell_type": "markdown",
   "source": [
    "Approximate `max(0, x)`"
   ],
   "metadata": {}
  },
  {
   "outputs": [],
   "cell_type": "code",
   "source": [
    "function smoothmax(x; c=(1//2)^10)\n",
    "    0.5 * (x + smoothabs(x; c))\n",
    "end\n",
    "\n",
    "plot(smoothmax, -10, 10)"
   ],
   "metadata": {},
   "execution_count": null
  },
  {
   "cell_type": "markdown",
   "source": [
    "## Smooth minimal function\n",
    "Approximate `min(0, x)`"
   ],
   "metadata": {}
  },
  {
   "outputs": [],
   "cell_type": "code",
   "source": [
    "function smoothmin(x; c=(1//2)^10)\n",
    "    0.5 * (smoothabs(x;c) - x)\n",
    "end\n",
    "\n",
    "plot(smoothmin, -10, 10)"
   ],
   "metadata": {},
   "execution_count": null
  },
  {
   "cell_type": "markdown",
   "source": [
    "## Periodic pulses\n",
    "From: https://www.noamross.net/2015/11/12/a-smooth-differentiable-pulse-function/"
   ],
   "metadata": {}
  },
  {
   "outputs": [],
   "cell_type": "code",
   "source": [
    "function smoothpulses(t, tstart, tend, period=1, amplitude=period / (tend - tstart), steepness=1000)\n",
    "    @assert tstart < tend < period\n",
    "    xi = 3 / 4 - (tend - tstart) / (2 * period)\n",
    "    p = inv(1 + exp(steepness * (sinpi(2 * ((t - tstart) / period + xi)) - sinpi(2 * xi))))\n",
    "    return amplitude * p\n",
    "end\n",
    "\n",
    "plot(t->smoothpulses(t, 0.2, 0.3, 0.5), 0.0, 2.0)"
   ],
   "metadata": {},
   "execution_count": null
  },
  {
   "cell_type": "markdown",
   "source": [
    "---\n",
    "\n",
    "*This notebook was generated using [Literate.jl](https://github.com/fredrikekre/Literate.jl).*"
   ],
   "metadata": {}
  }
 ],
 "nbformat_minor": 3,
 "metadata": {
  "language_info": {
   "file_extension": ".jl",
   "mimetype": "application/julia",
   "name": "julia",
   "version": "1.11.4"
  },
  "kernelspec": {
   "name": "julia-1.11",
   "display_name": "Julia 1.11.4",
   "language": "julia"
  }
 },
 "nbformat": 4
}
